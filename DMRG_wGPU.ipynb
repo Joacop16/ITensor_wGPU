{
 "cells": [
  {
   "cell_type": "code",
   "execution_count": 75,
   "id": "5c865672-1371-4054-bf8b-cf24f777871c",
   "metadata": {
    "tags": []
   },
   "outputs": [],
   "source": [
    "using ITensors\n",
    "using CUDA"
   ]
  },
  {
   "cell_type": "code",
   "execution_count": 76,
   "id": "f413c570-ac6b-4f78-8323-c6949df6471d",
   "metadata": {},
   "outputs": [
    {
     "data": {
      "text/plain": [
       "CUDA.DeviceIterator() for 2 devices:\n",
       "0. Tesla V100-SXM2-32GB\n",
       "1. Tesla V100-SXM2-32GB"
      ]
     },
     "execution_count": 76,
     "metadata": {},
     "output_type": "execute_result"
    }
   ],
   "source": [
    "CUDA.devices()"
   ]
  },
  {
   "cell_type": "code",
   "execution_count": 77,
   "id": "b43dd52f-33f5-45bb-b403-8e838d241385",
   "metadata": {},
   "outputs": [
    {
     "data": {
      "text/plain": [
       "clean_all_gpus (generic function with 2 methods)"
      ]
     },
     "execution_count": 77,
     "metadata": {},
     "output_type": "execute_result"
    }
   ],
   "source": [
    "#monitoring multiples gpu functions:\n",
    "\n",
    "function memory_info_all_gpus(print_info = true)\n",
    "    \n",
    "    percentages = []\n",
    "\n",
    "    scale = 1/(1024^3) #converty bytes to GB\n",
    "    for (i, dev) in enumerate(CUDA.NVML.devices())\n",
    "\n",
    "        name = CUDA.NVML.name(dev) \n",
    "        mem_info = CUDA.NVML.memory_info(dev)\n",
    "        total = round(mem_info.total*scale, sigdigits=4)\n",
    "        used = round(mem_info.used*scale, sigdigits=4)\n",
    "        free = round(mem_info.free*scale, sigdigits=4)\n",
    "        percentage= round(used*100/total, sigdigits=4)\n",
    "        \n",
    "        print_info ? println(\"$name #$i memory usage: $percentage % ($used GB/ $total GB)\" ) : nothing\n",
    "        \n",
    "        append!(percentages, percentage)\n",
    "    end\n",
    "    \n",
    "    return percentages\n",
    "end\n",
    "\n",
    "function clean_all_gpus(Deep_cleaning = false)\n",
    "    for i=reverse(0:length(CUDA.devices()) - 1)\n",
    "        global current_gpu = i\n",
    "        CUDA.device!(current_gpu)\n",
    "        Deep_cleaning ? GC.gc(true) : nothing #This could be very slow.\n",
    "        CUDA.reclaim()\n",
    "    end\n",
    "end"
   ]
  },
  {
   "cell_type": "code",
   "execution_count": 100,
   "id": "585ea7ef-9400-4d77-bd1d-28b1d2292bf0",
   "metadata": {},
   "outputs": [
    {
     "name": "stdout",
     "output_type": "stream",
     "text": [
      "Tesla V100-SXM2-32GB #1 memory usage: 59.25 % (18.96 GB/ 32.0 GB)\n",
      "Tesla V100-SXM2-32GB #2 memory usage: 92.84 % (29.71 GB/ 32.0 GB)\n",
      "  0.000156 seconds (72 allocations: 5.039 KiB)\n",
      "Effective GPU memory usage: 58.91% (18.699 GiB/31.739 GiB)\n",
      "Memory pool usage: 15.094 GiB (18.312 GiB reserved)\n",
      "  0.000183 seconds (63 allocations: 4.070 KiB)\n"
     ]
    }
   ],
   "source": [
    "@time memory_info_all_gpus()\n",
    "@time CUDA.memory_status() #It just print the one that is in use."
   ]
  },
  {
   "cell_type": "code",
   "execution_count": 79,
   "id": "c76f8dd6-1316-459e-8dc9-97323847727c",
   "metadata": {},
   "outputs": [],
   "source": [
    "function Create_H_MPO(t,U, N, sites = []) \n",
    "\n",
    "    if length(sites) == 0\n",
    "        sites = siteinds(\"Electron\",N)    \n",
    "    end\n",
    "    \n",
    "    os = OpSum() \n",
    "    for j=1:N-1 \n",
    "        os += -t,\"Cdagup\",j,\"Cup\",j+1 \n",
    "        os += -t,\"Cdagup\",j+1,\"Cup\",j\n",
    "        os += -t,\"Cdagdn\",j,\"Cdn\",j+1 \n",
    "        os += -t,\"Cdagdn\",j+1,\"Cdn\",j\n",
    "    end \n",
    "\n",
    "    for j=1:N\n",
    "        os += U,\"Nup * Ndn\",j\n",
    "    end\n",
    "    # Convert these terms to an MPO \n",
    "    H = MPO(os,sites)\n",
    "    return H, sites\n",
    "end\n",
    "\n",
    "#Custom observer to measure the use of GPU:\n",
    "\n",
    "mutable struct DemoObserver <: AbstractObserver\n",
    "    energy_tol::Float64\n",
    "    last_energy::Float64\n",
    "\n",
    "    DemoObserver(energy_tol=0.0) = new(energy_tol,1000.0)\n",
    "end\n",
    "\n",
    "cleaning_in_each_sweep = false #defaultt\n",
    "\n",
    "function ITensors.checkdone!(o::DemoObserver;kwargs...)\n",
    "    \n",
    "    memory_info_all_gpus() #Print GPU percentage of use. \n",
    "    \n",
    "    # # What if we clean cache in each sweep?.\n",
    "    \n",
    "    if cleaning_in_each_sweep\n",
    "        GC.gc(true) \n",
    "        CUDA.reclaim()\n",
    "    end    \n",
    "        \n",
    "    sw = kwargs[:sweep]\n",
    "    energy = kwargs[:energy]\n",
    "    if abs(energy-o.last_energy)/abs(energy) < o.energy_tol\n",
    "    println(\"Stopping DMRG after sweep $sw\")\n",
    "    return true\n",
    "    end\n",
    "    # Otherwise, update last_energy and keep going\n",
    "    o.last_energy = energy\n",
    "    return false\n",
    "end"
   ]
  },
  {
   "cell_type": "code",
   "execution_count": 101,
   "id": "0a04ab1b-8fe6-4f45-aa2a-ea5655831c02",
   "metadata": {},
   "outputs": [
    {
     "name": "stdout",
     "output_type": "stream",
     "text": [
      "Tesla V100-SXM2-32GB #1 memory usage: 39.31 % (12.58 GB/ 32.0 GB)\n",
      "Tesla V100-SXM2-32GB #2 memory usage: 9.834 % (3.147 GB/ 32.0 GB)\n"
     ]
    },
    {
     "data": {
      "text/plain": [
       "2-element Vector{Any}:\n",
       " 39.31\n",
       "  9.834"
      ]
     },
     "execution_count": 101,
     "metadata": {},
     "output_type": "execute_result"
    }
   ],
   "source": [
    "clean_all_gpus(true)\n",
    "memory_info_all_gpus()"
   ]
  },
  {
   "cell_type": "code",
   "execution_count": 84,
   "id": "d7fb86bc-d935-46f1-9b40-53a60cedc539",
   "metadata": {},
   "outputs": [
    {
     "data": {
      "text/plain": [
       "DemoObserver(1.0e-7, 1000.0)"
      ]
     },
     "execution_count": 84,
     "metadata": {},
     "output_type": "execute_result"
    }
   ],
   "source": [
    "N = 60\n",
    "t = 1\n",
    "U = 1\n",
    "\n",
    "nsweeps = 100\n",
    "maxdim = [1000] #maxdim - integer or array of integers specifying the maximum size allowed for the bond dimension or rank of the MPS being optimized\n",
    "cutoff = [1E-10] #maxdim - integer or array of integers specifying the maximum size allowed for the bond dimension or rank of the MPS being optimized\n",
    "# DMRG_observer = DMRGObserver(;energy_tol=10e-8, minsweeps=10, energy_type=Float64)\n",
    "DMRG_observer = DemoObserver(10e-8)"
   ]
  },
  {
   "cell_type": "code",
   "execution_count": 85,
   "id": "1d0ae5e2-97c2-454f-b16d-df9a1bdcf09d",
   "metadata": {},
   "outputs": [],
   "source": [
    "H, sites = Create_H_MPO(t,U, N) \n",
    "Initial_Guess = randomMPS(sites);\n",
    "# @time energy_ground_state, psi_ground_state = dmrg(H,Initial_Guess; nsweeps, maxdim, cutoff, observer = DMRG_observer, outputlevel = 1) "
   ]
  },
  {
   "cell_type": "code",
   "execution_count": 86,
   "id": "b445cb42-232d-4095-b67f-043d3116bbb1",
   "metadata": {
    "scrolled": true
   },
   "outputs": [
    {
     "name": "stdout",
     "output_type": "stream",
     "text": [
      "After sweep 1 energy=-61.40001643406533  maxlinkdim=16 maxerr=2.43E-16 time=0.423\n",
      "Tesla V100-SXM2-32GB #1 memory usage: 62.56 % (20.02 GB/ 32.0 GB)\n",
      "Tesla V100-SXM2-32GB #2 memory usage: 2.022 % (0.6472 GB/ 32.0 GB)\n",
      "After sweep 2 energy=-63.300510654556255  maxlinkdim=174 maxerr=1.00E-10 time=1.041\n",
      "Tesla V100-SXM2-32GB #1 memory usage: 62.56 % (20.02 GB/ 32.0 GB)\n",
      "Tesla V100-SXM2-32GB #2 memory usage: 2.022 % (0.6472 GB/ 32.0 GB)\n",
      "After sweep 3 energy=-63.52493609495797  maxlinkdim=284 maxerr=1.00E-10 time=2.378\n",
      "Tesla V100-SXM2-32GB #1 memory usage: 62.56 % (20.02 GB/ 32.0 GB)\n",
      "Tesla V100-SXM2-32GB #2 memory usage: 2.022 % (0.6472 GB/ 32.0 GB)\n",
      "After sweep 4 energy=-63.612046402727216  maxlinkdim=347 maxerr=1.00E-10 time=3.601\n",
      "Tesla V100-SXM2-32GB #1 memory usage: 62.56 % (20.02 GB/ 32.0 GB)\n",
      "Tesla V100-SXM2-32GB #2 memory usage: 2.022 % (0.6472 GB/ 32.0 GB)\n",
      "After sweep 5 energy=-63.65816472861775  maxlinkdim=403 maxerr=1.00E-10 time=5.057\n",
      "Tesla V100-SXM2-32GB #1 memory usage: 65.41 % (20.93 GB/ 32.0 GB)\n",
      "Tesla V100-SXM2-32GB #2 memory usage: 2.022 % (0.6472 GB/ 32.0 GB)\n",
      "After sweep 6 energy=-63.685837315369966  maxlinkdim=483 maxerr=1.00E-10 time=7.026\n",
      "Tesla V100-SXM2-32GB #1 memory usage: 67.56 % (21.62 GB/ 32.0 GB)\n",
      "Tesla V100-SXM2-32GB #2 memory usage: 2.022 % (0.6472 GB/ 32.0 GB)\n",
      "After sweep 7 energy=-63.701375232034295  maxlinkdim=566 maxerr=1.00E-10 time=9.711\n",
      "Tesla V100-SXM2-32GB #1 memory usage: 70.09 % (22.43 GB/ 32.0 GB)\n",
      "Tesla V100-SXM2-32GB #2 memory usage: 2.022 % (0.6472 GB/ 32.0 GB)\n",
      "After sweep 8 energy=-63.70931517760119  maxlinkdim=649 maxerr=1.00E-10 time=12.913\n",
      "Tesla V100-SXM2-32GB #1 memory usage: 72.91 % (23.33 GB/ 32.0 GB)\n",
      "Tesla V100-SXM2-32GB #2 memory usage: 2.022 % (0.6472 GB/ 32.0 GB)\n",
      "After sweep 9 energy=-63.713140002335344  maxlinkdim=734 maxerr=9.99E-11 time=17.155\n",
      "Tesla V100-SXM2-32GB #1 memory usage: 99.97 % (31.99 GB/ 32.0 GB)\n",
      "Tesla V100-SXM2-32GB #2 memory usage: 2.022 % (0.6472 GB/ 32.0 GB)\n",
      "After sweep 10 energy=-63.714884142579955  maxlinkdim=815 maxerr=1.00E-10 time=21.180\n",
      "Tesla V100-SXM2-32GB #1 memory usage: 99.97 % (31.99 GB/ 32.0 GB)\n",
      "Tesla V100-SXM2-32GB #2 memory usage: 2.022 % (0.6472 GB/ 32.0 GB)\n",
      "After sweep 11 energy=-63.71563065177522  maxlinkdim=894 maxerr=1.00E-10 time=27.122\n",
      "Tesla V100-SXM2-32GB #1 memory usage: 99.97 % (31.99 GB/ 32.0 GB)\n",
      "Tesla V100-SXM2-32GB #2 memory usage: 2.022 % (0.6472 GB/ 32.0 GB)\n",
      "After sweep 12 energy=-63.71599280007196  maxlinkdim=1000 maxerr=2.87E-10 time=34.661\n",
      "Tesla V100-SXM2-32GB #1 memory usage: 99.97 % (31.99 GB/ 32.0 GB)\n",
      "Tesla V100-SXM2-32GB #2 memory usage: 2.022 % (0.6472 GB/ 32.0 GB)\n",
      "After sweep 13 energy=-63.71609326949732  maxlinkdim=1000 maxerr=3.33E-10 time=46.052\n",
      "Tesla V100-SXM2-32GB #1 memory usage: 99.97 % (31.99 GB/ 32.0 GB)\n",
      "Tesla V100-SXM2-32GB #2 memory usage: 2.022 % (0.6472 GB/ 32.0 GB)\n",
      "After sweep 14 energy=-63.71610102004129  maxlinkdim=1000 maxerr=1.41E-09 time=50.380\n",
      "Tesla V100-SXM2-32GB #1 memory usage: 99.97 % (31.99 GB/ 32.0 GB)\n",
      "Tesla V100-SXM2-32GB #2 memory usage: 2.022 % (0.6472 GB/ 32.0 GB)\n",
      "After sweep 15 energy=-63.71610198739973  maxlinkdim=1000 maxerr=3.09E-09 time=51.887\n",
      "Tesla V100-SXM2-32GB #1 memory usage: 99.97 % (31.99 GB/ 32.0 GB)\n",
      "Tesla V100-SXM2-32GB #2 memory usage: 2.022 % (0.6472 GB/ 32.0 GB)\n",
      "Stopping DMRG after sweep 15\n",
      "290.622826 seconds (14.43 M allocations: 1.043 GiB, 2.23% gc time)\n"
     ]
    },
    {
     "data": {
      "text/plain": [
       "(-63.71610198739973, MPS\n",
       "[1] ((dim=4|id=161|\"Link,l=1\"), (dim=4|id=906|\"Electron,Site,n=1\"))\n",
       "[2] ((dim=16|id=397|\"Link,l=2\"), (dim=4|id=303|\"Electron,Site,n=2\"), (dim=4|id=161|\"Link,l=1\"))\n",
       "[3] ((dim=4|id=270|\"Electron,Site,n=3\"), (dim=63|id=85|\"Link,l=3\"), (dim=16|id=397|\"Link,l=2\"))\n",
       "[4] ((dim=4|id=698|\"Electron,Site,n=4\"), (dim=166|id=280|\"Link,l=4\"), (dim=63|id=85|\"Link,l=3\"))\n",
       "[5] ((dim=4|id=774|\"Electron,Site,n=5\"), (dim=285|id=949|\"Link,l=5\"), (dim=166|id=280|\"Link,l=4\"))\n",
       "[6] ((dim=4|id=998|\"Electron,Site,n=6\"), (dim=375|id=603|\"Link,l=6\"), (dim=285|id=949|\"Link,l=5\"))\n",
       "[7] ((dim=4|id=324|\"Electron,Site,n=7\"), (dim=488|id=983|\"Link,l=7\"), (dim=375|id=603|\"Link,l=6\"))\n",
       "[8] ((dim=4|id=506|\"Electron,Site,n=8\"), (dim=551|id=556|\"Link,l=8\"), (dim=488|id=983|\"Link,l=7\"))\n",
       "[9] ((dim=4|id=606|\"Electron,Site,n=9\"), (dim=649|id=527|\"Link,l=9\"), (dim=551|id=556|\"Link,l=8\"))\n",
       "[10] ((dim=4|id=196|\"Electron,Site,n=10\"), (dim=791|id=113|\"Link,l=10\"), (dim=649|id=527|\"Link,l=9\"))\n",
       "[11] ((dim=4|id=298|\"Electron,Site,n=11\"), (dim=882|id=116|\"Link,l=11\"), (dim=791|id=113|\"Link,l=10\"))\n",
       "[12] ((dim=4|id=822|\"Electron,Site,n=12\"), (dim=917|id=72|\"Link,l=12\"), (dim=882|id=116|\"Link,l=11\"))\n",
       "[13] ((dim=4|id=443|\"Electron,Site,n=13\"), (dim=1000|id=151|\"Link,l=13\"), (dim=917|id=72|\"Link,l=12\"))\n",
       "[14] ((dim=4|id=974|\"Electron,Site,n=14\"), (dim=1000|id=861|\"Link,l=14\"), (dim=1000|id=151|\"Link,l=13\"))\n",
       "[15] ((dim=4|id=53|\"Electron,Site,n=15\"), (dim=1000|id=639|\"Link,l=15\"), (dim=1000|id=861|\"Link,l=14\"))\n",
       "[16] ((dim=4|id=213|\"Electron,Site,n=16\"), (dim=1000|id=342|\"Link,l=16\"), (dim=1000|id=639|\"Link,l=15\"))\n",
       "[17] ((dim=4|id=259|\"Electron,Site,n=17\"), (dim=1000|id=571|\"Link,l=17\"), (dim=1000|id=342|\"Link,l=16\"))\n",
       "[18] ((dim=4|id=328|\"Electron,Site,n=18\"), (dim=1000|id=342|\"Link,l=18\"), (dim=1000|id=571|\"Link,l=17\"))\n",
       "[19] ((dim=4|id=305|\"Electron,Site,n=19\"), (dim=1000|id=545|\"Link,l=19\"), (dim=1000|id=342|\"Link,l=18\"))\n",
       "[20] ((dim=4|id=40|\"Electron,Site,n=20\"), (dim=1000|id=720|\"Link,l=20\"), (dim=1000|id=545|\"Link,l=19\"))\n",
       "[21] ((dim=4|id=584|\"Electron,Site,n=21\"), (dim=1000|id=353|\"Link,l=21\"), (dim=1000|id=720|\"Link,l=20\"))\n",
       "[22] ((dim=4|id=569|\"Electron,Site,n=22\"), (dim=1000|id=856|\"Link,l=22\"), (dim=1000|id=353|\"Link,l=21\"))\n",
       "[23] ((dim=4|id=619|\"Electron,Site,n=23\"), (dim=1000|id=30|\"Link,l=23\"), (dim=1000|id=856|\"Link,l=22\"))\n",
       "[24] ((dim=4|id=752|\"Electron,Site,n=24\"), (dim=1000|id=342|\"Link,l=24\"), (dim=1000|id=30|\"Link,l=23\"))\n",
       "[25] ((dim=4|id=875|\"Electron,Site,n=25\"), (dim=1000|id=929|\"Link,l=25\"), (dim=1000|id=342|\"Link,l=24\"))\n",
       "[26] ((dim=4|id=864|\"Electron,Site,n=26\"), (dim=1000|id=934|\"Link,l=26\"), (dim=1000|id=929|\"Link,l=25\"))\n",
       "[27] ((dim=4|id=310|\"Electron,Site,n=27\"), (dim=1000|id=798|\"Link,l=27\"), (dim=1000|id=934|\"Link,l=26\"))\n",
       "[28] ((dim=4|id=20|\"Electron,Site,n=28\"), (dim=1000|id=237|\"Link,l=28\"), (dim=1000|id=798|\"Link,l=27\"))\n",
       "[29] ((dim=4|id=15|\"Electron,Site,n=29\"), (dim=1000|id=95|\"Link,l=29\"), (dim=1000|id=237|\"Link,l=28\"))\n",
       "[30] ((dim=4|id=699|\"Electron,Site,n=30\"), (dim=1000|id=811|\"Link,l=30\"), (dim=1000|id=95|\"Link,l=29\"))\n",
       "[31] ((dim=4|id=41|\"Electron,Site,n=31\"), (dim=1000|id=632|\"Link,l=31\"), (dim=1000|id=811|\"Link,l=30\"))\n",
       "[32] ((dim=4|id=516|\"Electron,Site,n=32\"), (dim=1000|id=848|\"Link,l=32\"), (dim=1000|id=632|\"Link,l=31\"))\n",
       "[33] ((dim=4|id=169|\"Electron,Site,n=33\"), (dim=1000|id=786|\"Link,l=33\"), (dim=1000|id=848|\"Link,l=32\"))\n",
       "[34] ((dim=4|id=552|\"Electron,Site,n=34\"), (dim=1000|id=426|\"Link,l=34\"), (dim=1000|id=786|\"Link,l=33\"))\n",
       "[35] ((dim=4|id=328|\"Electron,Site,n=35\"), (dim=1000|id=660|\"Link,l=35\"), (dim=1000|id=426|\"Link,l=34\"))\n",
       "[36] ((dim=4|id=270|\"Electron,Site,n=36\"), (dim=1000|id=924|\"Link,l=36\"), (dim=1000|id=660|\"Link,l=35\"))\n",
       "[37] ((dim=4|id=593|\"Electron,Site,n=37\"), (dim=1000|id=226|\"Link,l=37\"), (dim=1000|id=924|\"Link,l=36\"))\n",
       "[38] ((dim=4|id=595|\"Electron,Site,n=38\"), (dim=1000|id=275|\"Link,l=38\"), (dim=1000|id=226|\"Link,l=37\"))\n",
       "[39] ((dim=4|id=784|\"Electron,Site,n=39\"), (dim=1000|id=53|\"Link,l=39\"), (dim=1000|id=275|\"Link,l=38\"))\n",
       "[40] ((dim=4|id=477|\"Electron,Site,n=40\"), (dim=1000|id=411|\"Link,l=40\"), (dim=1000|id=53|\"Link,l=39\"))\n",
       "[41] ((dim=4|id=29|\"Electron,Site,n=41\"), (dim=1000|id=13|\"Link,l=41\"), (dim=1000|id=411|\"Link,l=40\"))\n",
       "[42] ((dim=4|id=478|\"Electron,Site,n=42\"), (dim=1000|id=466|\"Link,l=42\"), (dim=1000|id=13|\"Link,l=41\"))\n",
       "[43] ((dim=4|id=685|\"Electron,Site,n=43\"), (dim=1000|id=135|\"Link,l=43\"), (dim=1000|id=466|\"Link,l=42\"))\n",
       "[44] ((dim=4|id=688|\"Electron,Site,n=44\"), (dim=1000|id=125|\"Link,l=44\"), (dim=1000|id=135|\"Link,l=43\"))\n",
       "[45] ((dim=4|id=244|\"Electron,Site,n=45\"), (dim=1000|id=119|\"Link,l=45\"), (dim=1000|id=125|\"Link,l=44\"))\n",
       "[46] ((dim=4|id=949|\"Electron,Site,n=46\"), (dim=1000|id=6|\"Link,l=46\"), (dim=1000|id=119|\"Link,l=45\"))\n",
       "[47] ((dim=4|id=772|\"Electron,Site,n=47\"), (dim=1000|id=655|\"Link,l=47\"), (dim=1000|id=6|\"Link,l=46\"))\n",
       "[48] ((dim=4|id=907|\"Electron,Site,n=48\"), (dim=987|id=989|\"Link,l=48\"), (dim=1000|id=655|\"Link,l=47\"))\n",
       "[49] ((dim=4|id=169|\"Electron,Site,n=49\"), (dim=867|id=294|\"Link,l=49\"), (dim=987|id=989|\"Link,l=48\"))\n",
       "[50] ((dim=4|id=537|\"Electron,Site,n=50\"), (dim=803|id=243|\"Link,l=50\"), (dim=867|id=294|\"Link,l=49\"))\n",
       "[51] ((dim=4|id=525|\"Electron,Site,n=51\"), (dim=694|id=797|\"Link,l=51\"), (dim=803|id=243|\"Link,l=50\"))\n",
       "[52] ((dim=4|id=333|\"Electron,Site,n=52\"), (dim=583|id=847|\"Link,l=52\"), (dim=694|id=797|\"Link,l=51\"))\n",
       "[53] ((dim=4|id=258|\"Electron,Site,n=53\"), (dim=528|id=320|\"Link,l=53\"), (dim=583|id=847|\"Link,l=52\"))\n",
       "[54] ((dim=4|id=43|\"Electron,Site,n=54\"), (dim=398|id=418|\"Link,l=54\"), (dim=528|id=320|\"Link,l=53\"))\n",
       "[55] ((dim=4|id=89|\"Electron,Site,n=55\"), (dim=329|id=248|\"Link,l=55\"), (dim=398|id=418|\"Link,l=54\"))\n",
       "[56] ((dim=4|id=166|\"Electron,Site,n=56\"), (dim=173|id=543|\"Link,l=56\"), (dim=329|id=248|\"Link,l=55\"))\n",
       "[57] ((dim=4|id=304|\"Electron,Site,n=57\"), (dim=63|id=574|\"Link,l=57\"), (dim=173|id=543|\"Link,l=56\"))\n",
       "[58] ((dim=4|id=528|\"Electron,Site,n=58\"), (dim=16|id=358|\"Link,l=58\"), (dim=63|id=574|\"Link,l=57\"))\n",
       "[59] ((dim=4|id=523|\"Electron,Site,n=59\"), (dim=4|id=49|\"Link,l=59\"), (dim=16|id=358|\"Link,l=58\"))\n",
       "[60] ((dim=4|id=84|\"Electron,Site,n=60\"), (dim=4|id=49|\"Link,l=59\"))\n",
       ")"
      ]
     },
     "execution_count": 86,
     "metadata": {},
     "output_type": "execute_result"
    }
   ],
   "source": [
    "cleaning_in_each_sweep = false\n",
    "H = NDTensors.cu(H)\n",
    "Initial_Guess = NDTensors.cu(Initial_Guess)\n",
    "@time energy_ground_state, psi_ground_state = dmrg(H,Initial_Guess; nsweeps, maxdim, cutoff, observer = DMRG_observer, outputlevel = 1) "
   ]
  },
  {
   "cell_type": "markdown",
   "id": "46e18cbc-5db0-41f7-ae71-d957c6ea2c9a",
   "metadata": {},
   "source": [
    "Here is clear that ITensors - DMRG does not works automatically with multiple GPUS. \n",
    "\n",
    "GPU 1 really needs 32 gbs in the latests sweeps? May be not, let's try to clean in each step, to see how actually needs by sweep."
   ]
  },
  {
   "cell_type": "code",
   "execution_count": 48,
   "id": "a40c7d08-629c-4632-aab8-4dcde7f2bd45",
   "metadata": {},
   "outputs": [
    {
     "name": "stdout",
     "output_type": "stream",
     "text": [
      "Tesla V100-SXM2-32GB #1 memory usage: 6.906 % (2.21 GB/ 32.0 GB)\n",
      "Tesla V100-SXM2-32GB #2 memory usage: 1.76 % (0.5632 GB/ 32.0 GB)\n"
     ]
    },
    {
     "data": {
      "text/plain": [
       "2-element Vector{Any}:\n",
       " 6.906\n",
       " 1.76"
      ]
     },
     "execution_count": 48,
     "metadata": {},
     "output_type": "execute_result"
    }
   ],
   "source": [
    "clean_all_gpus(true)\n",
    "memory_info_all_gpus()"
   ]
  },
  {
   "cell_type": "code",
   "execution_count": 49,
   "id": "b0df15f7-9f95-4786-bca8-841bee4feb24",
   "metadata": {
    "scrolled": true
   },
   "outputs": [
    {
     "name": "stdout",
     "output_type": "stream",
     "text": [
      "After sweep 1 energy=-40.85257768482403  maxlinkdim=16 maxerr=3.35E-16 time=0.270\n",
      "Tesla V100-SXM2-32GB #1 memory usage: 6.906 % (2.21 GB/ 32.0 GB)\n",
      "Tesla V100-SXM2-32GB #2 memory usage: 1.76 % (0.5632 GB/ 32.0 GB)\n",
      "After sweep 2 energy=-41.99297741693292  maxlinkdim=169 maxerr=9.96E-11 time=0.671\n",
      "Tesla V100-SXM2-32GB #1 memory usage: 27.9 % (8.928 GB/ 32.0 GB)\n",
      "Tesla V100-SXM2-32GB #2 memory usage: 1.76 % (0.5632 GB/ 32.0 GB)\n",
      "After sweep 3 energy=-42.106681263678254  maxlinkdim=283 maxerr=1.00E-10 time=1.583\n",
      "Tesla V100-SXM2-32GB #1 memory usage: 53.0 % (16.96 GB/ 32.0 GB)\n",
      "Tesla V100-SXM2-32GB #2 memory usage: 1.76 % (0.5632 GB/ 32.0 GB)\n",
      "After sweep 4 energy=-42.16980224672787  maxlinkdim=397 maxerr=1.00E-10 time=2.671\n",
      "Tesla V100-SXM2-32GB #1 memory usage: 54.47 % (17.43 GB/ 32.0 GB)\n",
      "Tesla V100-SXM2-32GB #2 memory usage: 1.76 % (0.5632 GB/ 32.0 GB)\n",
      "After sweep 5 energy=-42.20914243337561  maxlinkdim=510 maxerr=1.00E-10 time=4.310\n",
      "Tesla V100-SXM2-32GB #1 memory usage: 55.72 % (17.83 GB/ 32.0 GB)\n",
      "Tesla V100-SXM2-32GB #2 memory usage: 1.76 % (0.5632 GB/ 32.0 GB)\n",
      "After sweep 6 energy=-42.22735445537627  maxlinkdim=609 maxerr=1.00E-10 time=6.459\n",
      "Tesla V100-SXM2-32GB #1 memory usage: 59.94 % (19.18 GB/ 32.0 GB)\n",
      "Tesla V100-SXM2-32GB #2 memory usage: 1.76 % (0.5632 GB/ 32.0 GB)\n",
      "After sweep 7 energy=-42.23369018821245  maxlinkdim=697 maxerr=1.00E-10 time=8.717\n",
      "Tesla V100-SXM2-32GB #1 memory usage: 62.88 % (20.12 GB/ 32.0 GB)\n",
      "Tesla V100-SXM2-32GB #2 memory usage: 1.76 % (0.5632 GB/ 32.0 GB)\n",
      "After sweep 8 energy=-42.235620737870995  maxlinkdim=761 maxerr=1.00E-10 time=10.679\n",
      "Tesla V100-SXM2-32GB #1 memory usage: 62.19 % (19.9 GB/ 32.0 GB)\n",
      "Tesla V100-SXM2-32GB #2 memory usage: 1.76 % (0.5632 GB/ 32.0 GB)\n",
      "After sweep 9 energy=-42.23623142163046  maxlinkdim=833 maxerr=1.00E-10 time=12.161\n",
      "Tesla V100-SXM2-32GB #1 memory usage: 64.91 % (20.77 GB/ 32.0 GB)\n",
      "Tesla V100-SXM2-32GB #2 memory usage: 1.76 % (0.5632 GB/ 32.0 GB)\n",
      "After sweep 10 energy=-42.23647818625024  maxlinkdim=912 maxerr=1.00E-10 time=13.377\n",
      "Tesla V100-SXM2-32GB #1 memory usage: 66.47 % (21.27 GB/ 32.0 GB)\n",
      "Tesla V100-SXM2-32GB #2 memory usage: 1.76 % (0.5632 GB/ 32.0 GB)\n",
      "After sweep 11 energy=-42.236633424649156  maxlinkdim=991 maxerr=9.99E-11 time=14.779\n",
      "Tesla V100-SXM2-32GB #1 memory usage: 65.22 % (20.87 GB/ 32.0 GB)\n",
      "Tesla V100-SXM2-32GB #2 memory usage: 1.76 % (0.5632 GB/ 32.0 GB)\n",
      "After sweep 12 energy=-42.23675612046727  maxlinkdim=1000 maxerr=3.11E-10 time=16.618\n",
      "Tesla V100-SXM2-32GB #1 memory usage: 68.12 % (21.8 GB/ 32.0 GB)\n",
      "Tesla V100-SXM2-32GB #2 memory usage: 1.76 % (0.5632 GB/ 32.0 GB)\n",
      "After sweep 13 energy=-42.23681729034934  maxlinkdim=1000 maxerr=1.35E-10 time=17.831\n",
      "Tesla V100-SXM2-32GB #1 memory usage: 68.44 % (21.9 GB/ 32.0 GB)\n",
      "Tesla V100-SXM2-32GB #2 memory usage: 1.76 % (0.5632 GB/ 32.0 GB)\n",
      "After sweep 14 energy=-42.236848829426684  maxlinkdim=966 maxerr=1.00E-10 time=18.023\n",
      "Tesla V100-SXM2-32GB #1 memory usage: 67.56 % (21.62 GB/ 32.0 GB)\n",
      "Tesla V100-SXM2-32GB #2 memory usage: 1.76 % (0.5632 GB/ 32.0 GB)\n",
      "After sweep 15 energy=-42.236864156364554  maxlinkdim=1000 maxerr=2.95E-10 time=18.293\n",
      "Tesla V100-SXM2-32GB #1 memory usage: 68.91 % (22.05 GB/ 32.0 GB)\n",
      "Tesla V100-SXM2-32GB #2 memory usage: 1.76 % (0.5632 GB/ 32.0 GB)\n",
      "After sweep 16 energy=-42.236872291144145  maxlinkdim=1000 maxerr=1.47E-10 time=18.639\n",
      "Tesla V100-SXM2-32GB #1 memory usage: 69.5 % (22.24 GB/ 32.0 GB)\n",
      "Tesla V100-SXM2-32GB #2 memory usage: 1.76 % (0.5632 GB/ 32.0 GB)\n",
      "After sweep 17 energy=-42.23687677269292  maxlinkdim=1000 maxerr=2.69E-10 time=18.608\n",
      "Tesla V100-SXM2-32GB #1 memory usage: 68.34 % (21.87 GB/ 32.0 GB)\n",
      "Tesla V100-SXM2-32GB #2 memory usage: 1.76 % (0.5632 GB/ 32.0 GB)\n",
      "After sweep 18 energy=-42.23687932832874  maxlinkdim=1000 maxerr=2.56E-10 time=19.231\n",
      "Tesla V100-SXM2-32GB #1 memory usage: 69.41 % (22.21 GB/ 32.0 GB)\n",
      "Tesla V100-SXM2-32GB #2 memory usage: 1.76 % (0.5632 GB/ 32.0 GB)\n",
      "Stopping DMRG after sweep 18\n",
      "210.211232 seconds (11.41 M allocations: 840.284 MiB, 3.21% gc time)\n"
     ]
    },
    {
     "data": {
      "text/plain": [
       "(-42.23687932832874, MPS\n",
       "[1] ((dim=4|id=753|\"Link,l=1\"), (dim=4|id=15|\"Electron,Site,n=1\"))\n",
       "[2] ((dim=16|id=613|\"Link,l=2\"), (dim=4|id=305|\"Electron,Site,n=2\"), (dim=4|id=753|\"Link,l=1\"))\n",
       "[3] ((dim=4|id=536|\"Electron,Site,n=3\"), (dim=63|id=841|\"Link,l=3\"), (dim=16|id=613|\"Link,l=2\"))\n",
       "[4] ((dim=4|id=191|\"Electron,Site,n=4\"), (dim=168|id=931|\"Link,l=4\"), (dim=63|id=841|\"Link,l=3\"))\n",
       "[5] ((dim=4|id=411|\"Electron,Site,n=5\"), (dim=287|id=343|\"Link,l=5\"), (dim=168|id=931|\"Link,l=4\"))\n",
       "[6] ((dim=4|id=114|\"Electron,Site,n=6\"), (dim=381|id=369|\"Link,l=6\"), (dim=287|id=343|\"Link,l=5\"))\n",
       "[7] ((dim=4|id=568|\"Electron,Site,n=7\"), (dim=474|id=765|\"Link,l=7\"), (dim=381|id=369|\"Link,l=6\"))\n",
       "[8] ((dim=4|id=620|\"Electron,Site,n=8\"), (dim=567|id=173|\"Link,l=8\"), (dim=474|id=765|\"Link,l=7\"))\n",
       "[9] ((dim=4|id=886|\"Electron,Site,n=9\"), (dim=631|id=358|\"Link,l=9\"), (dim=567|id=173|\"Link,l=8\"))\n",
       "[10] ((dim=4|id=851|\"Electron,Site,n=10\"), (dim=683|id=272|\"Link,l=10\"), (dim=631|id=358|\"Link,l=9\"))\n",
       "[11] ((dim=4|id=779|\"Electron,Site,n=11\"), (dim=786|id=562|\"Link,l=11\"), (dim=683|id=272|\"Link,l=10\"))\n",
       "[12] ((dim=4|id=621|\"Electron,Site,n=12\"), (dim=735|id=958|\"Link,l=12\"), (dim=786|id=562|\"Link,l=11\"))\n",
       "[13] ((dim=4|id=193|\"Electron,Site,n=13\"), (dim=931|id=246|\"Link,l=13\"), (dim=735|id=958|\"Link,l=12\"))\n",
       "[14] ((dim=4|id=734|\"Electron,Site,n=14\"), (dim=796|id=207|\"Link,l=14\"), (dim=931|id=246|\"Link,l=13\"))\n",
       "[15] ((dim=4|id=6|\"Electron,Site,n=15\"), (dim=1000|id=376|\"Link,l=15\"), (dim=796|id=207|\"Link,l=14\"))\n",
       "[16] ((dim=4|id=962|\"Electron,Site,n=16\"), (dim=858|id=327|\"Link,l=16\"), (dim=1000|id=376|\"Link,l=15\"))\n",
       "[17] ((dim=4|id=770|\"Electron,Site,n=17\"), (dim=1000|id=82|\"Link,l=17\"), (dim=858|id=327|\"Link,l=16\"))\n",
       "[18] ((dim=4|id=716|\"Electron,Site,n=18\"), (dim=900|id=81|\"Link,l=18\"), (dim=1000|id=82|\"Link,l=17\"))\n",
       "[19] ((dim=4|id=929|\"Electron,Site,n=19\"), (dim=957|id=691|\"Link,l=19\"), (dim=900|id=81|\"Link,l=18\"))\n",
       "[20] ((dim=4|id=883|\"Electron,Site,n=20\"), (dim=922|id=113|\"Link,l=20\"), (dim=957|id=691|\"Link,l=19\"))\n",
       "[21] ((dim=4|id=855|\"Electron,Site,n=21\"), (dim=917|id=764|\"Link,l=21\"), (dim=922|id=113|\"Link,l=20\"))\n",
       "[22] ((dim=4|id=12|\"Electron,Site,n=22\"), (dim=902|id=447|\"Link,l=22\"), (dim=917|id=764|\"Link,l=21\"))\n",
       "[23] ((dim=4|id=68|\"Electron,Site,n=23\"), (dim=870|id=223|\"Link,l=23\"), (dim=902|id=447|\"Link,l=22\"))\n",
       "[24] ((dim=4|id=193|\"Electron,Site,n=24\"), (dim=878|id=454|\"Link,l=24\"), (dim=870|id=223|\"Link,l=23\"))\n",
       "[25] ((dim=4|id=339|\"Electron,Site,n=25\"), (dim=828|id=57|\"Link,l=25\"), (dim=878|id=454|\"Link,l=24\"))\n",
       "[26] ((dim=4|id=223|\"Electron,Site,n=26\"), (dim=844|id=75|\"Link,l=26\"), (dim=828|id=57|\"Link,l=25\"))\n",
       "[27] ((dim=4|id=190|\"Electron,Site,n=27\"), (dim=802|id=983|\"Link,l=27\"), (dim=844|id=75|\"Link,l=26\"))\n",
       "[28] ((dim=4|id=83|\"Electron,Site,n=28\"), (dim=765|id=583|\"Link,l=28\"), (dim=802|id=983|\"Link,l=27\"))\n",
       "[29] ((dim=4|id=428|\"Electron,Site,n=29\"), (dim=762|id=624|\"Link,l=29\"), (dim=765|id=583|\"Link,l=28\"))\n",
       "[30] ((dim=4|id=445|\"Electron,Site,n=30\"), (dim=664|id=376|\"Link,l=30\"), (dim=762|id=624|\"Link,l=29\"))\n",
       "[31] ((dim=4|id=977|\"Electron,Site,n=31\"), (dim=664|id=775|\"Link,l=31\"), (dim=664|id=376|\"Link,l=30\"))\n",
       "[32] ((dim=4|id=851|\"Electron,Site,n=32\"), (dim=523|id=713|\"Link,l=32\"), (dim=664|id=775|\"Link,l=31\"))\n",
       "[33] ((dim=4|id=6|\"Electron,Site,n=33\"), (dim=520|id=12|\"Link,l=33\"), (dim=523|id=713|\"Link,l=32\"))\n",
       "[34] ((dim=4|id=346|\"Electron,Site,n=34\"), (dim=378|id=140|\"Link,l=34\"), (dim=520|id=12|\"Link,l=33\"))\n",
       "[35] ((dim=4|id=420|\"Electron,Site,n=35\"), (dim=320|id=233|\"Link,l=35\"), (dim=378|id=140|\"Link,l=34\"))\n",
       "[36] ((dim=4|id=548|\"Electron,Site,n=36\"), (dim=158|id=427|\"Link,l=36\"), (dim=320|id=233|\"Link,l=35\"))\n",
       "[37] ((dim=4|id=664|\"Electron,Site,n=37\"), (dim=63|id=511|\"Link,l=37\"), (dim=158|id=427|\"Link,l=36\"))\n",
       "[38] ((dim=4|id=150|\"Electron,Site,n=38\"), (dim=16|id=533|\"Link,l=38\"), (dim=63|id=511|\"Link,l=37\"))\n",
       "[39] ((dim=4|id=476|\"Electron,Site,n=39\"), (dim=4|id=504|\"Link,l=39\"), (dim=16|id=533|\"Link,l=38\"))\n",
       "[40] ((dim=4|id=695|\"Electron,Site,n=40\"), (dim=4|id=504|\"Link,l=39\"))\n",
       ")"
      ]
     },
     "execution_count": 49,
     "metadata": {},
     "output_type": "execute_result"
    }
   ],
   "source": [
    "cleaning_in_each_sweep = true\n",
    "H = NDTensors.cu(H)\n",
    "Initial_Guess = NDTensors.cu(Initial_Guess)\n",
    "@time energy_ground_state, psi_ground_state = dmrg(H,Initial_Guess; nsweeps, maxdim, cutoff, observer = DMRG_observer, outputlevel = 1) "
   ]
  },
  {
   "cell_type": "code",
   "execution_count": 50,
   "id": "116196ce-d16f-4070-9b60-9a5b20e1ffa3",
   "metadata": {},
   "outputs": [],
   "source": [
    "global current_gpu = 0 #the code always starts running with GPU 1.\n",
    "\n",
    "function ITensors.checkdone!(o::DemoObserver;kwargs...)\n",
    "        \n",
    "    percentage = memory_info_all_gpus() #Print GPU percentage of use. \n",
    "    \n",
    "    if percentage[current_gpu + 1] >= 90\n",
    "        GC.gc(true) \n",
    "        CUDA.reclaim()\n",
    "    end\n",
    "    \n",
    "    percentage = memory_info_all_gpus(false)\n",
    "        \n",
    "    if percentage[current_gpu + 1] >= 90\n",
    "        global current_gpu = current_gpu + 1\n",
    "        current_gpu == length(CUDA.devices()) ? clean_all_gpus(true) : CUDA.device!(current_gpu)\n",
    "    end\n",
    "        \n",
    "    sw = kwargs[:sweep]\n",
    "    energy = kwargs[:energy]\n",
    "    if abs(energy-o.last_energy)/abs(energy) < o.energy_tol\n",
    "    println(\"Stopping DMRG after sweep $sw\")\n",
    "    return true\n",
    "    end\n",
    "    # Otherwise, update last_energy and keep going\n",
    "    o.last_energy = energy\n",
    "    return false\n",
    "end"
   ]
  },
  {
   "cell_type": "code",
   "execution_count": 51,
   "id": "c0673a46-f414-4dad-9daa-57b5b7d7c93c",
   "metadata": {},
   "outputs": [
    {
     "name": "stdout",
     "output_type": "stream",
     "text": [
      "Tesla V100-SXM2-32GB #1 memory usage: 11.1 % (3.553 GB/ 32.0 GB)\n",
      "Tesla V100-SXM2-32GB #2 memory usage: 1.76 % (0.5632 GB/ 32.0 GB)\n"
     ]
    },
    {
     "data": {
      "text/plain": [
       "2-element Vector{Any}:\n",
       " 11.1\n",
       "  1.76"
      ]
     },
     "execution_count": 51,
     "metadata": {},
     "output_type": "execute_result"
    }
   ],
   "source": [
    "clean_all_gpus(true)\n",
    "memory_info_all_gpus()"
   ]
  },
  {
   "cell_type": "code",
   "execution_count": 52,
   "id": "062fb2ee-3de0-4f82-9fbf-59b8fa6b2cdd",
   "metadata": {
    "scrolled": true
   },
   "outputs": [
    {
     "name": "stdout",
     "output_type": "stream",
     "text": [
      "After sweep 1 energy=-40.85257768482403  maxlinkdim=16 maxerr=3.35E-16 time=0.296\n",
      "Tesla V100-SXM2-32GB #1 memory usage: 11.1 % (3.553 GB/ 32.0 GB)\n",
      "Tesla V100-SXM2-32GB #2 memory usage: 1.76 % (0.5632 GB/ 32.0 GB)\n",
      "After sweep 2 energy=-41.99297741693292  maxlinkdim=169 maxerr=9.96E-11 time=0.653\n",
      "Tesla V100-SXM2-32GB #1 memory usage: 29.76 % (9.522 GB/ 32.0 GB)\n",
      "Tesla V100-SXM2-32GB #2 memory usage: 1.76 % (0.5632 GB/ 32.0 GB)\n",
      "After sweep 3 energy=-42.106681263678254  maxlinkdim=283 maxerr=1.00E-10 time=1.588\n",
      "Tesla V100-SXM2-32GB #1 memory usage: 53.0 % (16.96 GB/ 32.0 GB)\n",
      "Tesla V100-SXM2-32GB #2 memory usage: 1.76 % (0.5632 GB/ 32.0 GB)\n",
      "After sweep 4 energy=-42.16980224672787  maxlinkdim=397 maxerr=1.00E-10 time=2.611\n",
      "Tesla V100-SXM2-32GB #1 memory usage: 55.06 % (17.62 GB/ 32.0 GB)\n",
      "Tesla V100-SXM2-32GB #2 memory usage: 1.76 % (0.5632 GB/ 32.0 GB)\n",
      "After sweep 5 energy=-42.20914243337561  maxlinkdim=510 maxerr=1.00E-10 time=4.250\n",
      "Tesla V100-SXM2-32GB #1 memory usage: 57.88 % (18.52 GB/ 32.0 GB)\n",
      "Tesla V100-SXM2-32GB #2 memory usage: 1.76 % (0.5632 GB/ 32.0 GB)\n",
      "After sweep 6 energy=-42.22735445537627  maxlinkdim=609 maxerr=1.00E-10 time=6.412\n",
      "Tesla V100-SXM2-32GB #1 memory usage: 60.91 % (19.49 GB/ 32.0 GB)\n",
      "Tesla V100-SXM2-32GB #2 memory usage: 1.76 % (0.5632 GB/ 32.0 GB)\n",
      "After sweep 7 energy=-42.23369018821245  maxlinkdim=697 maxerr=1.00E-10 time=8.670\n",
      "Tesla V100-SXM2-32GB #1 memory usage: 64.62 % (20.68 GB/ 32.0 GB)\n",
      "Tesla V100-SXM2-32GB #2 memory usage: 1.76 % (0.5632 GB/ 32.0 GB)\n",
      "After sweep 8 energy=-42.235620737870995  maxlinkdim=761 maxerr=1.00E-10 time=10.616\n",
      "Tesla V100-SXM2-32GB #1 memory usage: 68.62 % (21.96 GB/ 32.0 GB)\n",
      "Tesla V100-SXM2-32GB #2 memory usage: 1.76 % (0.5632 GB/ 32.0 GB)\n",
      "After sweep 9 energy=-42.23623142163046  maxlinkdim=833 maxerr=1.00E-10 time=12.094\n",
      "Tesla V100-SXM2-32GB #1 memory usage: 68.62 % (21.96 GB/ 32.0 GB)\n",
      "Tesla V100-SXM2-32GB #2 memory usage: 1.76 % (0.5632 GB/ 32.0 GB)\n",
      "After sweep 10 energy=-42.23647818625024  maxlinkdim=912 maxerr=1.00E-10 time=13.333\n",
      "Tesla V100-SXM2-32GB #1 memory usage: 69.22 % (22.15 GB/ 32.0 GB)\n",
      "Tesla V100-SXM2-32GB #2 memory usage: 1.76 % (0.5632 GB/ 32.0 GB)\n",
      "After sweep 11 energy=-42.236633424649156  maxlinkdim=991 maxerr=9.99E-11 time=15.211\n",
      "Tesla V100-SXM2-32GB #1 memory usage: 99.97 % (31.99 GB/ 32.0 GB)\n",
      "Tesla V100-SXM2-32GB #2 memory usage: 1.76 % (0.5632 GB/ 32.0 GB)\n",
      "After sweep 12 energy=-42.23675612046727  maxlinkdim=1000 maxerr=3.11E-10 time=16.685\n",
      "Tesla V100-SXM2-32GB #1 memory usage: 70.69 % (22.62 GB/ 32.0 GB)\n",
      "Tesla V100-SXM2-32GB #2 memory usage: 1.76 % (0.5632 GB/ 32.0 GB)\n",
      "After sweep 13 energy=-42.23681729034934  maxlinkdim=1000 maxerr=1.35E-10 time=17.794\n",
      "Tesla V100-SXM2-32GB #1 memory usage: 70.69 % (22.62 GB/ 32.0 GB)\n",
      "Tesla V100-SXM2-32GB #2 memory usage: 1.76 % (0.5632 GB/ 32.0 GB)\n",
      "After sweep 14 energy=-42.236848829426684  maxlinkdim=966 maxerr=1.00E-10 time=17.993\n",
      "Tesla V100-SXM2-32GB #1 memory usage: 71.75 % (22.96 GB/ 32.0 GB)\n",
      "Tesla V100-SXM2-32GB #2 memory usage: 1.76 % (0.5632 GB/ 32.0 GB)\n",
      "After sweep 15 energy=-42.236864156364554  maxlinkdim=1000 maxerr=2.95E-10 time=18.683\n",
      "Tesla V100-SXM2-32GB #1 memory usage: 99.97 % (31.99 GB/ 32.0 GB)\n",
      "Tesla V100-SXM2-32GB #2 memory usage: 1.76 % (0.5632 GB/ 32.0 GB)\n",
      "After sweep 16 energy=-42.236872291144145  maxlinkdim=1000 maxerr=1.47E-10 time=18.626\n",
      "Tesla V100-SXM2-32GB #1 memory usage: 72.53 % (23.21 GB/ 32.0 GB)\n",
      "Tesla V100-SXM2-32GB #2 memory usage: 1.76 % (0.5632 GB/ 32.0 GB)\n",
      "After sweep 17 energy=-42.23687677269292  maxlinkdim=1000 maxerr=2.69E-10 time=18.530\n",
      "Tesla V100-SXM2-32GB #1 memory usage: 72.53 % (23.21 GB/ 32.0 GB)\n",
      "Tesla V100-SXM2-32GB #2 memory usage: 1.76 % (0.5632 GB/ 32.0 GB)\n",
      "After sweep 18 energy=-42.23687932832874  maxlinkdim=1000 maxerr=2.56E-10 time=19.562\n",
      "Tesla V100-SXM2-32GB #1 memory usage: 99.97 % (31.99 GB/ 32.0 GB)\n",
      "Tesla V100-SXM2-32GB #2 memory usage: 1.76 % (0.5632 GB/ 32.0 GB)\n",
      "Stopping DMRG after sweep 18\n",
      "205.098797 seconds (11.50 M allocations: 846.828 MiB, 1.58% gc time, 0.06% compilation time: 85% of which was recompilation)\n"
     ]
    },
    {
     "data": {
      "text/plain": [
       "(-42.23687932832874, MPS\n",
       "[1] ((dim=4|id=509|\"Link,l=1\"), (dim=4|id=15|\"Electron,Site,n=1\"))\n",
       "[2] ((dim=16|id=249|\"Link,l=2\"), (dim=4|id=305|\"Electron,Site,n=2\"), (dim=4|id=509|\"Link,l=1\"))\n",
       "[3] ((dim=4|id=536|\"Electron,Site,n=3\"), (dim=63|id=562|\"Link,l=3\"), (dim=16|id=249|\"Link,l=2\"))\n",
       "[4] ((dim=4|id=191|\"Electron,Site,n=4\"), (dim=168|id=229|\"Link,l=4\"), (dim=63|id=562|\"Link,l=3\"))\n",
       "[5] ((dim=4|id=411|\"Electron,Site,n=5\"), (dim=287|id=353|\"Link,l=5\"), (dim=168|id=229|\"Link,l=4\"))\n",
       "[6] ((dim=4|id=114|\"Electron,Site,n=6\"), (dim=381|id=191|\"Link,l=6\"), (dim=287|id=353|\"Link,l=5\"))\n",
       "[7] ((dim=4|id=568|\"Electron,Site,n=7\"), (dim=474|id=280|\"Link,l=7\"), (dim=381|id=191|\"Link,l=6\"))\n",
       "[8] ((dim=4|id=620|\"Electron,Site,n=8\"), (dim=567|id=139|\"Link,l=8\"), (dim=474|id=280|\"Link,l=7\"))\n",
       "[9] ((dim=4|id=886|\"Electron,Site,n=9\"), (dim=631|id=841|\"Link,l=9\"), (dim=567|id=139|\"Link,l=8\"))\n",
       "[10] ((dim=4|id=851|\"Electron,Site,n=10\"), (dim=683|id=682|\"Link,l=10\"), (dim=631|id=841|\"Link,l=9\"))\n",
       "[11] ((dim=4|id=779|\"Electron,Site,n=11\"), (dim=786|id=803|\"Link,l=11\"), (dim=683|id=682|\"Link,l=10\"))\n",
       "[12] ((dim=4|id=621|\"Electron,Site,n=12\"), (dim=735|id=604|\"Link,l=12\"), (dim=786|id=803|\"Link,l=11\"))\n",
       "[13] ((dim=4|id=193|\"Electron,Site,n=13\"), (dim=931|id=656|\"Link,l=13\"), (dim=735|id=604|\"Link,l=12\"))\n",
       "[14] ((dim=4|id=734|\"Electron,Site,n=14\"), (dim=796|id=677|\"Link,l=14\"), (dim=931|id=656|\"Link,l=13\"))\n",
       "[15] ((dim=4|id=6|\"Electron,Site,n=15\"), (dim=1000|id=689|\"Link,l=15\"), (dim=796|id=677|\"Link,l=14\"))\n",
       "[16] ((dim=4|id=962|\"Electron,Site,n=16\"), (dim=858|id=950|\"Link,l=16\"), (dim=1000|id=689|\"Link,l=15\"))\n",
       "[17] ((dim=4|id=770|\"Electron,Site,n=17\"), (dim=1000|id=119|\"Link,l=17\"), (dim=858|id=950|\"Link,l=16\"))\n",
       "[18] ((dim=4|id=716|\"Electron,Site,n=18\"), (dim=900|id=366|\"Link,l=18\"), (dim=1000|id=119|\"Link,l=17\"))\n",
       "[19] ((dim=4|id=929|\"Electron,Site,n=19\"), (dim=957|id=183|\"Link,l=19\"), (dim=900|id=366|\"Link,l=18\"))\n",
       "[20] ((dim=4|id=883|\"Electron,Site,n=20\"), (dim=922|id=334|\"Link,l=20\"), (dim=957|id=183|\"Link,l=19\"))\n",
       "[21] ((dim=4|id=855|\"Electron,Site,n=21\"), (dim=917|id=322|\"Link,l=21\"), (dim=922|id=334|\"Link,l=20\"))\n",
       "[22] ((dim=4|id=12|\"Electron,Site,n=22\"), (dim=902|id=870|\"Link,l=22\"), (dim=917|id=322|\"Link,l=21\"))\n",
       "[23] ((dim=4|id=68|\"Electron,Site,n=23\"), (dim=870|id=326|\"Link,l=23\"), (dim=902|id=870|\"Link,l=22\"))\n",
       "[24] ((dim=4|id=193|\"Electron,Site,n=24\"), (dim=878|id=139|\"Link,l=24\"), (dim=870|id=326|\"Link,l=23\"))\n",
       "[25] ((dim=4|id=339|\"Electron,Site,n=25\"), (dim=828|id=413|\"Link,l=25\"), (dim=878|id=139|\"Link,l=24\"))\n",
       "[26] ((dim=4|id=223|\"Electron,Site,n=26\"), (dim=844|id=16|\"Link,l=26\"), (dim=828|id=413|\"Link,l=25\"))\n",
       "[27] ((dim=4|id=190|\"Electron,Site,n=27\"), (dim=802|id=274|\"Link,l=27\"), (dim=844|id=16|\"Link,l=26\"))\n",
       "[28] ((dim=4|id=83|\"Electron,Site,n=28\"), (dim=765|id=96|\"Link,l=28\"), (dim=802|id=274|\"Link,l=27\"))\n",
       "[29] ((dim=4|id=428|\"Electron,Site,n=29\"), (dim=762|id=276|\"Link,l=29\"), (dim=765|id=96|\"Link,l=28\"))\n",
       "[30] ((dim=4|id=445|\"Electron,Site,n=30\"), (dim=664|id=517|\"Link,l=30\"), (dim=762|id=276|\"Link,l=29\"))\n",
       "[31] ((dim=4|id=977|\"Electron,Site,n=31\"), (dim=664|id=308|\"Link,l=31\"), (dim=664|id=517|\"Link,l=30\"))\n",
       "[32] ((dim=4|id=851|\"Electron,Site,n=32\"), (dim=523|id=309|\"Link,l=32\"), (dim=664|id=308|\"Link,l=31\"))\n",
       "[33] ((dim=4|id=6|\"Electron,Site,n=33\"), (dim=520|id=537|\"Link,l=33\"), (dim=523|id=309|\"Link,l=32\"))\n",
       "[34] ((dim=4|id=346|\"Electron,Site,n=34\"), (dim=378|id=62|\"Link,l=34\"), (dim=520|id=537|\"Link,l=33\"))\n",
       "[35] ((dim=4|id=420|\"Electron,Site,n=35\"), (dim=320|id=492|\"Link,l=35\"), (dim=378|id=62|\"Link,l=34\"))\n",
       "[36] ((dim=4|id=548|\"Electron,Site,n=36\"), (dim=158|id=592|\"Link,l=36\"), (dim=320|id=492|\"Link,l=35\"))\n",
       "[37] ((dim=4|id=664|\"Electron,Site,n=37\"), (dim=63|id=224|\"Link,l=37\"), (dim=158|id=592|\"Link,l=36\"))\n",
       "[38] ((dim=4|id=150|\"Electron,Site,n=38\"), (dim=16|id=374|\"Link,l=38\"), (dim=63|id=224|\"Link,l=37\"))\n",
       "[39] ((dim=4|id=476|\"Electron,Site,n=39\"), (dim=4|id=910|\"Link,l=39\"), (dim=16|id=374|\"Link,l=38\"))\n",
       "[40] ((dim=4|id=695|\"Electron,Site,n=40\"), (dim=4|id=910|\"Link,l=39\"))\n",
       ")"
      ]
     },
     "execution_count": 52,
     "metadata": {},
     "output_type": "execute_result"
    }
   ],
   "source": [
    "H = NDTensors.cu(H)\n",
    "Initial_Guess = NDTensors.cu(Initial_Guess)\n",
    "@time energy_ground_state, psi_ground_state = dmrg(H,Initial_Guess; nsweeps, maxdim, cutoff, observer = DMRG_observer, outputlevel = 1) "
   ]
  },
  {
   "cell_type": "code",
   "execution_count": 53,
   "id": "ddeab873-2340-446b-8c25-44166dad6759",
   "metadata": {},
   "outputs": [],
   "source": [
    "global current_gpu = 0 #the code always starts running with GPU 1.\n",
    "CUDA.device!(current_gpu)\n",
    "\n",
    "function ITensors.checkdone!(o::DemoObserver;kwargs...)\n",
    "        \n",
    "    percentage = memory_info_all_gpus() #Print GPU percentage of use. \n",
    "            \n",
    "    if percentage[current_gpu + 1] >= 90\n",
    "        global current_gpu = current_gpu + 1\n",
    "        current_gpu == length(CUDA.devices()) ? clean_all_gpus(true) : CUDA.device!(current_gpu)\n",
    "    end\n",
    "        \n",
    "    sw = kwargs[:sweep]\n",
    "    energy = kwargs[:energy]\n",
    "    if abs(energy-o.last_energy)/abs(energy) < o.energy_tol\n",
    "    println(\"Stopping DMRG after sweep $sw\")\n",
    "    return true\n",
    "    end\n",
    "    # Otherwise, update last_energy and keep going\n",
    "    o.last_energy = energy\n",
    "    return false\n",
    "end"
   ]
  },
  {
   "cell_type": "code",
   "execution_count": 54,
   "id": "208cdf25-1d5e-4238-86f9-8f8b11110ee4",
   "metadata": {
    "scrolled": true
   },
   "outputs": [
    {
     "name": "stdout",
     "output_type": "stream",
     "text": [
      "After sweep 1 energy=-40.85257768482403  maxlinkdim=16 maxerr=3.35E-16 time=0.276\n",
      "Tesla V100-SXM2-32GB #1 memory usage: 18.62 % (5.96 GB/ 32.0 GB)\n",
      "Tesla V100-SXM2-32GB #2 memory usage: 1.76 % (0.5632 GB/ 32.0 GB)\n",
      "After sweep 2 energy=-41.99297741693292  maxlinkdim=169 maxerr=9.96E-11 time=0.660\n",
      "Tesla V100-SXM2-32GB #1 memory usage: 35.31 % (11.3 GB/ 32.0 GB)\n",
      "Tesla V100-SXM2-32GB #2 memory usage: 1.76 % (0.5632 GB/ 32.0 GB)\n",
      "After sweep 3 energy=-42.106681263678254  maxlinkdim=283 maxerr=1.00E-10 time=1.579\n",
      "Tesla V100-SXM2-32GB #1 memory usage: 53.69 % (17.18 GB/ 32.0 GB)\n",
      "Tesla V100-SXM2-32GB #2 memory usage: 1.76 % (0.5632 GB/ 32.0 GB)\n",
      "After sweep 4 energy=-42.16980224672787  maxlinkdim=397 maxerr=1.00E-10 time=2.601\n",
      "Tesla V100-SXM2-32GB #1 memory usage: 55.94 % (17.9 GB/ 32.0 GB)\n",
      "Tesla V100-SXM2-32GB #2 memory usage: 1.76 % (0.5632 GB/ 32.0 GB)\n",
      "After sweep 5 energy=-42.20914243337561  maxlinkdim=510 maxerr=1.00E-10 time=4.263\n",
      "Tesla V100-SXM2-32GB #1 memory usage: 60.22 % (19.27 GB/ 32.0 GB)\n",
      "Tesla V100-SXM2-32GB #2 memory usage: 1.76 % (0.5632 GB/ 32.0 GB)\n",
      "After sweep 6 energy=-42.22735445537627  maxlinkdim=609 maxerr=1.00E-10 time=6.424\n",
      "Tesla V100-SXM2-32GB #1 memory usage: 63.75 % (20.4 GB/ 32.0 GB)\n",
      "Tesla V100-SXM2-32GB #2 memory usage: 1.76 % (0.5632 GB/ 32.0 GB)\n",
      "After sweep 7 energy=-42.23369018821245  maxlinkdim=697 maxerr=1.00E-10 time=8.668\n",
      "Tesla V100-SXM2-32GB #1 memory usage: 66.78 % (21.37 GB/ 32.0 GB)\n",
      "Tesla V100-SXM2-32GB #2 memory usage: 1.76 % (0.5632 GB/ 32.0 GB)\n",
      "After sweep 8 energy=-42.235620737870995  maxlinkdim=761 maxerr=1.00E-10 time=10.604\n",
      "Tesla V100-SXM2-32GB #1 memory usage: 67.66 % (21.65 GB/ 32.0 GB)\n",
      "Tesla V100-SXM2-32GB #2 memory usage: 1.76 % (0.5632 GB/ 32.0 GB)\n",
      "After sweep 9 energy=-42.23623142163046  maxlinkdim=833 maxerr=1.00E-10 time=12.104\n",
      "Tesla V100-SXM2-32GB #1 memory usage: 68.81 % (22.02 GB/ 32.0 GB)\n",
      "Tesla V100-SXM2-32GB #2 memory usage: 1.76 % (0.5632 GB/ 32.0 GB)\n",
      "After sweep 10 energy=-42.23647818625024  maxlinkdim=912 maxerr=1.00E-10 time=13.344\n",
      "Tesla V100-SXM2-32GB #1 memory usage: 74.38 % (23.8 GB/ 32.0 GB)\n",
      "Tesla V100-SXM2-32GB #2 memory usage: 1.76 % (0.5632 GB/ 32.0 GB)\n",
      "After sweep 11 energy=-42.236633424649156  maxlinkdim=991 maxerr=9.99E-11 time=15.135\n",
      "Tesla V100-SXM2-32GB #1 memory usage: 99.97 % (31.99 GB/ 32.0 GB)\n",
      "Tesla V100-SXM2-32GB #2 memory usage: 1.76 % (0.5632 GB/ 32.0 GB)\n",
      "After sweep 12 energy=-42.23675612046727  maxlinkdim=1000 maxerr=3.11E-10 time=23.778\n",
      "Tesla V100-SXM2-32GB #1 memory usage: 99.97 % (31.99 GB/ 32.0 GB)\n",
      "Tesla V100-SXM2-32GB #2 memory usage: 57.59 % (18.43 GB/ 32.0 GB)\n",
      "After sweep 13 energy=-42.23681729034934  maxlinkdim=1000 maxerr=1.35E-10 time=17.834\n",
      "Tesla V100-SXM2-32GB #1 memory usage: 99.97 % (31.99 GB/ 32.0 GB)\n",
      "Tesla V100-SXM2-32GB #2 memory usage: 58.84 % (18.83 GB/ 32.0 GB)\n",
      "After sweep 14 energy=-42.236848829426684  maxlinkdim=966 maxerr=1.00E-10 time=18.094\n",
      "Tesla V100-SXM2-32GB #1 memory usage: 99.97 % (31.99 GB/ 32.0 GB)\n",
      "Tesla V100-SXM2-32GB #2 memory usage: 59.53 % (19.05 GB/ 32.0 GB)\n",
      "After sweep 15 energy=-42.236864156364554  maxlinkdim=1000 maxerr=2.95E-10 time=18.922\n",
      "Tesla V100-SXM2-32GB #1 memory usage: 99.97 % (31.99 GB/ 32.0 GB)\n",
      "Tesla V100-SXM2-32GB #2 memory usage: 99.97 % (31.99 GB/ 32.0 GB)\n",
      "After sweep 16 energy=-42.236872291144145  maxlinkdim=1000 maxerr=1.47E-10 time=24.522\n",
      "Tesla V100-SXM2-32GB #1 memory usage: 70.56 % (22.58 GB/ 32.0 GB)\n",
      "Tesla V100-SXM2-32GB #2 memory usage: 42.34 % (13.55 GB/ 32.0 GB)\n",
      "After sweep 17 energy=-42.23687677269292  maxlinkdim=1000 maxerr=2.69E-10 time=18.502\n",
      "Tesla V100-SXM2-32GB #1 memory usage: 72.03 % (23.05 GB/ 32.0 GB)\n",
      "Tesla V100-SXM2-32GB #2 memory usage: 42.34 % (13.55 GB/ 32.0 GB)\n",
      "After sweep 18 energy=-42.23687932832874  maxlinkdim=1000 maxerr=2.56E-10 time=19.164\n",
      "Tesla V100-SXM2-32GB #1 memory usage: 73.69 % (23.58 GB/ 32.0 GB)\n",
      "Tesla V100-SXM2-32GB #2 memory usage: 42.34 % (13.55 GB/ 32.0 GB)\n",
      "Stopping DMRG after sweep 18\n",
      "216.876884 seconds (12.01 M allocations: 910.546 MiB, 0.82% gc time, 0.11% compilation time: 40% of which was recompilation)\n"
     ]
    },
    {
     "data": {
      "text/plain": [
       "(-42.23687932832874, MPS\n",
       "[1] ((dim=4|id=647|\"Link,l=1\"), (dim=4|id=15|\"Electron,Site,n=1\"))\n",
       "[2] ((dim=16|id=57|\"Link,l=2\"), (dim=4|id=305|\"Electron,Site,n=2\"), (dim=4|id=647|\"Link,l=1\"))\n",
       "[3] ((dim=4|id=536|\"Electron,Site,n=3\"), (dim=63|id=345|\"Link,l=3\"), (dim=16|id=57|\"Link,l=2\"))\n",
       "[4] ((dim=4|id=191|\"Electron,Site,n=4\"), (dim=168|id=203|\"Link,l=4\"), (dim=63|id=345|\"Link,l=3\"))\n",
       "[5] ((dim=4|id=411|\"Electron,Site,n=5\"), (dim=287|id=557|\"Link,l=5\"), (dim=168|id=203|\"Link,l=4\"))\n",
       "[6] ((dim=4|id=114|\"Electron,Site,n=6\"), (dim=381|id=147|\"Link,l=6\"), (dim=287|id=557|\"Link,l=5\"))\n",
       "[7] ((dim=4|id=568|\"Electron,Site,n=7\"), (dim=474|id=609|\"Link,l=7\"), (dim=381|id=147|\"Link,l=6\"))\n",
       "[8] ((dim=4|id=620|\"Electron,Site,n=8\"), (dim=567|id=790|\"Link,l=8\"), (dim=474|id=609|\"Link,l=7\"))\n",
       "[9] ((dim=4|id=886|\"Electron,Site,n=9\"), (dim=631|id=83|\"Link,l=9\"), (dim=567|id=790|\"Link,l=8\"))\n",
       "[10] ((dim=4|id=851|\"Electron,Site,n=10\"), (dim=683|id=982|\"Link,l=10\"), (dim=631|id=83|\"Link,l=9\"))\n",
       "[11] ((dim=4|id=779|\"Electron,Site,n=11\"), (dim=786|id=310|\"Link,l=11\"), (dim=683|id=982|\"Link,l=10\"))\n",
       "[12] ((dim=4|id=621|\"Electron,Site,n=12\"), (dim=735|id=835|\"Link,l=12\"), (dim=786|id=310|\"Link,l=11\"))\n",
       "[13] ((dim=4|id=193|\"Electron,Site,n=13\"), (dim=931|id=366|\"Link,l=13\"), (dim=735|id=835|\"Link,l=12\"))\n",
       "[14] ((dim=4|id=734|\"Electron,Site,n=14\"), (dim=796|id=344|\"Link,l=14\"), (dim=931|id=366|\"Link,l=13\"))\n",
       "[15] ((dim=4|id=6|\"Electron,Site,n=15\"), (dim=1000|id=527|\"Link,l=15\"), (dim=796|id=344|\"Link,l=14\"))\n",
       "[16] ((dim=4|id=962|\"Electron,Site,n=16\"), (dim=858|id=109|\"Link,l=16\"), (dim=1000|id=527|\"Link,l=15\"))\n",
       "[17] ((dim=4|id=770|\"Electron,Site,n=17\"), (dim=1000|id=565|\"Link,l=17\"), (dim=858|id=109|\"Link,l=16\"))\n",
       "[18] ((dim=4|id=716|\"Electron,Site,n=18\"), (dim=900|id=8|\"Link,l=18\"), (dim=1000|id=565|\"Link,l=17\"))\n",
       "[19] ((dim=4|id=929|\"Electron,Site,n=19\"), (dim=957|id=532|\"Link,l=19\"), (dim=900|id=8|\"Link,l=18\"))\n",
       "[20] ((dim=4|id=883|\"Electron,Site,n=20\"), (dim=922|id=516|\"Link,l=20\"), (dim=957|id=532|\"Link,l=19\"))\n",
       "[21] ((dim=4|id=855|\"Electron,Site,n=21\"), (dim=917|id=332|\"Link,l=21\"), (dim=922|id=516|\"Link,l=20\"))\n",
       "[22] ((dim=4|id=12|\"Electron,Site,n=22\"), (dim=902|id=316|\"Link,l=22\"), (dim=917|id=332|\"Link,l=21\"))\n",
       "[23] ((dim=4|id=68|\"Electron,Site,n=23\"), (dim=870|id=193|\"Link,l=23\"), (dim=902|id=316|\"Link,l=22\"))\n",
       "[24] ((dim=4|id=193|\"Electron,Site,n=24\"), (dim=878|id=302|\"Link,l=24\"), (dim=870|id=193|\"Link,l=23\"))\n",
       "[25] ((dim=4|id=339|\"Electron,Site,n=25\"), (dim=828|id=751|\"Link,l=25\"), (dim=878|id=302|\"Link,l=24\"))\n",
       "[26] ((dim=4|id=223|\"Electron,Site,n=26\"), (dim=844|id=752|\"Link,l=26\"), (dim=828|id=751|\"Link,l=25\"))\n",
       "[27] ((dim=4|id=190|\"Electron,Site,n=27\"), (dim=802|id=163|\"Link,l=27\"), (dim=844|id=752|\"Link,l=26\"))\n",
       "[28] ((dim=4|id=83|\"Electron,Site,n=28\"), (dim=765|id=148|\"Link,l=28\"), (dim=802|id=163|\"Link,l=27\"))\n",
       "[29] ((dim=4|id=428|\"Electron,Site,n=29\"), (dim=762|id=412|\"Link,l=29\"), (dim=765|id=148|\"Link,l=28\"))\n",
       "[30] ((dim=4|id=445|\"Electron,Site,n=30\"), (dim=664|id=266|\"Link,l=30\"), (dim=762|id=412|\"Link,l=29\"))\n",
       "[31] ((dim=4|id=977|\"Electron,Site,n=31\"), (dim=664|id=547|\"Link,l=31\"), (dim=664|id=266|\"Link,l=30\"))\n",
       "[32] ((dim=4|id=851|\"Electron,Site,n=32\"), (dim=523|id=798|\"Link,l=32\"), (dim=664|id=547|\"Link,l=31\"))\n",
       "[33] ((dim=4|id=6|\"Electron,Site,n=33\"), (dim=520|id=860|\"Link,l=33\"), (dim=523|id=798|\"Link,l=32\"))\n",
       "[34] ((dim=4|id=346|\"Electron,Site,n=34\"), (dim=378|id=130|\"Link,l=34\"), (dim=520|id=860|\"Link,l=33\"))\n",
       "[35] ((dim=4|id=420|\"Electron,Site,n=35\"), (dim=320|id=911|\"Link,l=35\"), (dim=378|id=130|\"Link,l=34\"))\n",
       "[36] ((dim=4|id=548|\"Electron,Site,n=36\"), (dim=158|id=69|\"Link,l=36\"), (dim=320|id=911|\"Link,l=35\"))\n",
       "[37] ((dim=4|id=664|\"Electron,Site,n=37\"), (dim=63|id=5|\"Link,l=37\"), (dim=158|id=69|\"Link,l=36\"))\n",
       "[38] ((dim=4|id=150|\"Electron,Site,n=38\"), (dim=16|id=662|\"Link,l=38\"), (dim=63|id=5|\"Link,l=37\"))\n",
       "[39] ((dim=4|id=476|\"Electron,Site,n=39\"), (dim=4|id=928|\"Link,l=39\"), (dim=16|id=662|\"Link,l=38\"))\n",
       "[40] ((dim=4|id=695|\"Electron,Site,n=40\"), (dim=4|id=928|\"Link,l=39\"))\n",
       ")"
      ]
     },
     "execution_count": 54,
     "metadata": {},
     "output_type": "execute_result"
    }
   ],
   "source": [
    "H = NDTensors.cu(H)\n",
    "Initial_Guess = NDTensors.cu(Initial_Guess)\n",
    "@time energy_ground_state, psi_ground_state = dmrg(H,Initial_Guess; nsweeps, maxdim, cutoff, observer = DMRG_observer, outputlevel = 1) "
   ]
  },
  {
   "cell_type": "code",
   "execution_count": 96,
   "id": "b48a27a1-57c2-4b86-88b2-863885ee26e3",
   "metadata": {},
   "outputs": [
    {
     "name": "stdout",
     "output_type": "stream",
     "text": [
      "Tesla V100-SXM2-32GB #1 memory usage: 33.38 % (10.68 GB/ 32.0 GB)\n",
      "Tesla V100-SXM2-32GB #2 memory usage: 9.834 % (3.147 GB/ 32.0 GB)\n"
     ]
    },
    {
     "data": {
      "text/plain": [
       "2-element Vector{Any}:\n",
       " 33.38\n",
       "  9.834"
      ]
     },
     "execution_count": 96,
     "metadata": {},
     "output_type": "execute_result"
    }
   ],
   "source": [
    "clean_all_gpus(true)\n",
    "memory_info_all_gpus()"
   ]
  },
  {
   "cell_type": "code",
   "execution_count": 97,
   "id": "94958c10-8b7b-4fae-93d1-9df7ff119792",
   "metadata": {},
   "outputs": [],
   "source": [
    "#Final version ? \n",
    "\n",
    "global current_gpu = 0 #the code always starts running with GPU 1.\n",
    "CUDA.device!(current_gpu)\n",
    "\n",
    "function ITensors.checkdone!(o::DemoObserver;kwargs...)\n",
    "        \n",
    "    percentage = memory_info_all_gpus() #Print GPU percentage of use. \n",
    "    # # What if we clean but not very deep in each sweep?.\n",
    "    \n",
    "    CUDA.reclaim() #It is the faster way to clean.\n",
    "    percentage = memory_info_all_gpus(false) #Print GPU percentage of use. \n",
    "    if percentage[current_gpu + 1] >= 80\n",
    "        global current_gpu = current_gpu + 1\n",
    "        current_gpu == length(CUDA.devices()) ? clean_all_gpus() : CUDA.device!(current_gpu) #May be cleaning more deeply is good?\n",
    "    end    \n",
    "        \n",
    "    sw = kwargs[:sweep]\n",
    "    energy = kwargs[:energy]\n",
    "    if abs(energy-o.last_energy)/abs(energy) < o.energy_tol\n",
    "    println(\"Stopping DMRG after sweep $sw\")\n",
    "    return true\n",
    "    end\n",
    "    # Otherwise, update last_energy and keep going\n",
    "    o.last_energy = energy\n",
    "    return false\n",
    "end"
   ]
  },
  {
   "cell_type": "code",
   "execution_count": 98,
   "id": "fd61c44d-e325-4166-ac18-c6f5febc754a",
   "metadata": {
    "scrolled": true
   },
   "outputs": [
    {
     "name": "stdout",
     "output_type": "stream",
     "text": [
      "After sweep 1 energy=-61.40001643406533  maxlinkdim=16 maxerr=2.43E-16 time=0.459\n",
      "Tesla V100-SXM2-32GB #1 memory usage: 33.38 % (10.68 GB/ 32.0 GB)\n",
      "Tesla V100-SXM2-32GB #2 memory usage: 9.834 % (3.147 GB/ 32.0 GB)\n",
      "After sweep 2 energy=-63.300510654556255  maxlinkdim=174 maxerr=1.00E-10 time=1.156\n",
      "Tesla V100-SXM2-32GB #1 memory usage: 55.06 % (17.62 GB/ 32.0 GB)\n",
      "Tesla V100-SXM2-32GB #2 memory usage: 9.834 % (3.147 GB/ 32.0 GB)\n",
      "After sweep 3 energy=-63.52493609495797  maxlinkdim=284 maxerr=1.00E-10 time=2.449\n",
      "Tesla V100-SXM2-32GB #1 memory usage: 56.5 % (18.08 GB/ 32.0 GB)\n",
      "Tesla V100-SXM2-32GB #2 memory usage: 9.834 % (3.147 GB/ 32.0 GB)\n",
      "After sweep 4 energy=-63.612046402727216  maxlinkdim=347 maxerr=1.00E-10 time=3.674\n",
      "Tesla V100-SXM2-32GB #1 memory usage: 59.44 % (19.02 GB/ 32.0 GB)\n",
      "Tesla V100-SXM2-32GB #2 memory usage: 9.834 % (3.147 GB/ 32.0 GB)\n",
      "After sweep 5 energy=-63.65816472861775  maxlinkdim=403 maxerr=1.00E-10 time=5.096\n",
      "Tesla V100-SXM2-32GB #1 memory usage: 63.75 % (20.4 GB/ 32.0 GB)\n",
      "Tesla V100-SXM2-32GB #2 memory usage: 9.834 % (3.147 GB/ 32.0 GB)\n",
      "After sweep 6 energy=-63.685837315369966  maxlinkdim=483 maxerr=1.00E-10 time=7.063\n",
      "Tesla V100-SXM2-32GB #1 memory usage: 65.88 % (21.08 GB/ 32.0 GB)\n",
      "Tesla V100-SXM2-32GB #2 memory usage: 9.834 % (3.147 GB/ 32.0 GB)\n",
      "After sweep 7 energy=-63.701375232034295  maxlinkdim=566 maxerr=1.00E-10 time=9.833\n",
      "Tesla V100-SXM2-32GB #1 memory usage: 68.91 % (22.05 GB/ 32.0 GB)\n",
      "Tesla V100-SXM2-32GB #2 memory usage: 9.834 % (3.147 GB/ 32.0 GB)\n",
      "After sweep 8 energy=-63.70931517760119  maxlinkdim=649 maxerr=1.00E-10 time=13.017\n",
      "Tesla V100-SXM2-32GB #1 memory usage: 71.25 % (22.8 GB/ 32.0 GB)\n",
      "Tesla V100-SXM2-32GB #2 memory usage: 9.834 % (3.147 GB/ 32.0 GB)\n",
      "After sweep 9 energy=-63.713140002335344  maxlinkdim=734 maxerr=9.99E-11 time=17.201\n",
      "Tesla V100-SXM2-32GB #1 memory usage: 99.97 % (31.99 GB/ 32.0 GB)\n",
      "Tesla V100-SXM2-32GB #2 memory usage: 9.834 % (3.147 GB/ 32.0 GB)\n",
      "After sweep 10 energy=-63.714884142579955  maxlinkdim=815 maxerr=1.00E-10 time=21.300\n",
      "Tesla V100-SXM2-32GB #1 memory usage: 77.81 % (24.9 GB/ 32.0 GB)\n",
      "Tesla V100-SXM2-32GB #2 memory usage: 9.834 % (3.147 GB/ 32.0 GB)\n",
      "After sweep 11 energy=-63.71563065177522  maxlinkdim=894 maxerr=1.00E-10 time=27.228\n",
      "Tesla V100-SXM2-32GB #1 memory usage: 99.97 % (31.99 GB/ 32.0 GB)\n",
      "Tesla V100-SXM2-32GB #2 memory usage: 9.834 % (3.147 GB/ 32.0 GB)\n",
      "After sweep 12 energy=-63.71599280007196  maxlinkdim=1000 maxerr=2.87E-10 time=45.347\n",
      "Tesla V100-SXM2-32GB #1 memory usage: 83.47 % (26.71 GB/ 32.0 GB)\n",
      "Tesla V100-SXM2-32GB #2 memory usage: 62.97 % (20.15 GB/ 32.0 GB)\n",
      "After sweep 13 energy=-63.71609326949732  maxlinkdim=1000 maxerr=3.33E-10 time=46.861\n",
      "Tesla V100-SXM2-32GB #1 memory usage: 83.47 % (26.71 GB/ 32.0 GB)\n",
      "Tesla V100-SXM2-32GB #2 memory usage: 99.97 % (31.99 GB/ 32.0 GB)\n",
      "After sweep 14 energy=-63.71610102004129  maxlinkdim=1000 maxerr=1.41E-09 time=51.033\n",
      "Tesla V100-SXM2-32GB #1 memory usage: 83.47 % (26.71 GB/ 32.0 GB)\n",
      "Tesla V100-SXM2-32GB #2 memory usage: 99.97 % (31.99 GB/ 32.0 GB)\n",
      "After sweep 15 energy=-63.71610198739973  maxlinkdim=1000 maxerr=3.09E-09 time=67.428\n",
      "Tesla V100-SXM2-32GB #1 memory usage: 99.97 % (31.99 GB/ 32.0 GB)\n",
      "Tesla V100-SXM2-32GB #2 memory usage: 92.84 % (29.71 GB/ 32.0 GB)\n",
      "Stopping DMRG after sweep 15\n",
      "319.989465 seconds (14.53 M allocations: 1.050 GiB, 1.86% gc time, 0.04% compilation time: 85% of which was recompilation)\n"
     ]
    },
    {
     "data": {
      "text/plain": [
       "(-63.71610198739973, MPS\n",
       "[1] ((dim=4|id=768|\"Link,l=1\"), (dim=4|id=906|\"Electron,Site,n=1\"))\n",
       "[2] ((dim=16|id=770|\"Link,l=2\"), (dim=4|id=303|\"Electron,Site,n=2\"), (dim=4|id=768|\"Link,l=1\"))\n",
       "[3] ((dim=4|id=270|\"Electron,Site,n=3\"), (dim=63|id=789|\"Link,l=3\"), (dim=16|id=770|\"Link,l=2\"))\n",
       "[4] ((dim=4|id=698|\"Electron,Site,n=4\"), (dim=166|id=133|\"Link,l=4\"), (dim=63|id=789|\"Link,l=3\"))\n",
       "[5] ((dim=4|id=774|\"Electron,Site,n=5\"), (dim=285|id=447|\"Link,l=5\"), (dim=166|id=133|\"Link,l=4\"))\n",
       "[6] ((dim=4|id=998|\"Electron,Site,n=6\"), (dim=375|id=259|\"Link,l=6\"), (dim=285|id=447|\"Link,l=5\"))\n",
       "[7] ((dim=4|id=324|\"Electron,Site,n=7\"), (dim=488|id=21|\"Link,l=7\"), (dim=375|id=259|\"Link,l=6\"))\n",
       "[8] ((dim=4|id=506|\"Electron,Site,n=8\"), (dim=551|id=689|\"Link,l=8\"), (dim=488|id=21|\"Link,l=7\"))\n",
       "[9] ((dim=4|id=606|\"Electron,Site,n=9\"), (dim=649|id=970|\"Link,l=9\"), (dim=551|id=689|\"Link,l=8\"))\n",
       "[10] ((dim=4|id=196|\"Electron,Site,n=10\"), (dim=791|id=687|\"Link,l=10\"), (dim=649|id=970|\"Link,l=9\"))\n",
       "[11] ((dim=4|id=298|\"Electron,Site,n=11\"), (dim=882|id=690|\"Link,l=11\"), (dim=791|id=687|\"Link,l=10\"))\n",
       "[12] ((dim=4|id=822|\"Electron,Site,n=12\"), (dim=917|id=894|\"Link,l=12\"), (dim=882|id=690|\"Link,l=11\"))\n",
       "[13] ((dim=4|id=443|\"Electron,Site,n=13\"), (dim=1000|id=576|\"Link,l=13\"), (dim=917|id=894|\"Link,l=12\"))\n",
       "[14] ((dim=4|id=974|\"Electron,Site,n=14\"), (dim=1000|id=635|\"Link,l=14\"), (dim=1000|id=576|\"Link,l=13\"))\n",
       "[15] ((dim=4|id=53|\"Electron,Site,n=15\"), (dim=1000|id=878|\"Link,l=15\"), (dim=1000|id=635|\"Link,l=14\"))\n",
       "[16] ((dim=4|id=213|\"Electron,Site,n=16\"), (dim=1000|id=490|\"Link,l=16\"), (dim=1000|id=878|\"Link,l=15\"))\n",
       "[17] ((dim=4|id=259|\"Electron,Site,n=17\"), (dim=1000|id=632|\"Link,l=17\"), (dim=1000|id=490|\"Link,l=16\"))\n",
       "[18] ((dim=4|id=328|\"Electron,Site,n=18\"), (dim=1000|id=532|\"Link,l=18\"), (dim=1000|id=632|\"Link,l=17\"))\n",
       "[19] ((dim=4|id=305|\"Electron,Site,n=19\"), (dim=1000|id=904|\"Link,l=19\"), (dim=1000|id=532|\"Link,l=18\"))\n",
       "[20] ((dim=4|id=40|\"Electron,Site,n=20\"), (dim=1000|id=427|\"Link,l=20\"), (dim=1000|id=904|\"Link,l=19\"))\n",
       "[21] ((dim=4|id=584|\"Electron,Site,n=21\"), (dim=1000|id=171|\"Link,l=21\"), (dim=1000|id=427|\"Link,l=20\"))\n",
       "[22] ((dim=4|id=569|\"Electron,Site,n=22\"), (dim=1000|id=32|\"Link,l=22\"), (dim=1000|id=171|\"Link,l=21\"))\n",
       "[23] ((dim=4|id=619|\"Electron,Site,n=23\"), (dim=1000|id=642|\"Link,l=23\"), (dim=1000|id=32|\"Link,l=22\"))\n",
       "[24] ((dim=4|id=752|\"Electron,Site,n=24\"), (dim=1000|id=951|\"Link,l=24\"), (dim=1000|id=642|\"Link,l=23\"))\n",
       "[25] ((dim=4|id=875|\"Electron,Site,n=25\"), (dim=1000|id=92|\"Link,l=25\"), (dim=1000|id=951|\"Link,l=24\"))\n",
       "[26] ((dim=4|id=864|\"Electron,Site,n=26\"), (dim=1000|id=155|\"Link,l=26\"), (dim=1000|id=92|\"Link,l=25\"))\n",
       "[27] ((dim=4|id=310|\"Electron,Site,n=27\"), (dim=1000|id=187|\"Link,l=27\"), (dim=1000|id=155|\"Link,l=26\"))\n",
       "[28] ((dim=4|id=20|\"Electron,Site,n=28\"), (dim=1000|id=37|\"Link,l=28\"), (dim=1000|id=187|\"Link,l=27\"))\n",
       "[29] ((dim=4|id=15|\"Electron,Site,n=29\"), (dim=1000|id=230|\"Link,l=29\"), (dim=1000|id=37|\"Link,l=28\"))\n",
       "[30] ((dim=4|id=699|\"Electron,Site,n=30\"), (dim=1000|id=206|\"Link,l=30\"), (dim=1000|id=230|\"Link,l=29\"))\n",
       "[31] ((dim=4|id=41|\"Electron,Site,n=31\"), (dim=1000|id=724|\"Link,l=31\"), (dim=1000|id=206|\"Link,l=30\"))\n",
       "[32] ((dim=4|id=516|\"Electron,Site,n=32\"), (dim=1000|id=244|\"Link,l=32\"), (dim=1000|id=724|\"Link,l=31\"))\n",
       "[33] ((dim=4|id=169|\"Electron,Site,n=33\"), (dim=1000|id=355|\"Link,l=33\"), (dim=1000|id=244|\"Link,l=32\"))\n",
       "[34] ((dim=4|id=552|\"Electron,Site,n=34\"), (dim=1000|id=984|\"Link,l=34\"), (dim=1000|id=355|\"Link,l=33\"))\n",
       "[35] ((dim=4|id=328|\"Electron,Site,n=35\"), (dim=1000|id=137|\"Link,l=35\"), (dim=1000|id=984|\"Link,l=34\"))\n",
       "[36] ((dim=4|id=270|\"Electron,Site,n=36\"), (dim=1000|id=897|\"Link,l=36\"), (dim=1000|id=137|\"Link,l=35\"))\n",
       "[37] ((dim=4|id=593|\"Electron,Site,n=37\"), (dim=1000|id=805|\"Link,l=37\"), (dim=1000|id=897|\"Link,l=36\"))\n",
       "[38] ((dim=4|id=595|\"Electron,Site,n=38\"), (dim=1000|id=553|\"Link,l=38\"), (dim=1000|id=805|\"Link,l=37\"))\n",
       "[39] ((dim=4|id=784|\"Electron,Site,n=39\"), (dim=1000|id=649|\"Link,l=39\"), (dim=1000|id=553|\"Link,l=38\"))\n",
       "[40] ((dim=4|id=477|\"Electron,Site,n=40\"), (dim=1000|id=847|\"Link,l=40\"), (dim=1000|id=649|\"Link,l=39\"))\n",
       "[41] ((dim=4|id=29|\"Electron,Site,n=41\"), (dim=1000|id=756|\"Link,l=41\"), (dim=1000|id=847|\"Link,l=40\"))\n",
       "[42] ((dim=4|id=478|\"Electron,Site,n=42\"), (dim=1000|id=9|\"Link,l=42\"), (dim=1000|id=756|\"Link,l=41\"))\n",
       "[43] ((dim=4|id=685|\"Electron,Site,n=43\"), (dim=1000|id=873|\"Link,l=43\"), (dim=1000|id=9|\"Link,l=42\"))\n",
       "[44] ((dim=4|id=688|\"Electron,Site,n=44\"), (dim=1000|id=946|\"Link,l=44\"), (dim=1000|id=873|\"Link,l=43\"))\n",
       "[45] ((dim=4|id=244|\"Electron,Site,n=45\"), (dim=1000|id=835|\"Link,l=45\"), (dim=1000|id=946|\"Link,l=44\"))\n",
       "[46] ((dim=4|id=949|\"Electron,Site,n=46\"), (dim=1000|id=578|\"Link,l=46\"), (dim=1000|id=835|\"Link,l=45\"))\n",
       "[47] ((dim=4|id=772|\"Electron,Site,n=47\"), (dim=1000|id=115|\"Link,l=47\"), (dim=1000|id=578|\"Link,l=46\"))\n",
       "[48] ((dim=4|id=907|\"Electron,Site,n=48\"), (dim=987|id=474|\"Link,l=48\"), (dim=1000|id=115|\"Link,l=47\"))\n",
       "[49] ((dim=4|id=169|\"Electron,Site,n=49\"), (dim=867|id=742|\"Link,l=49\"), (dim=987|id=474|\"Link,l=48\"))\n",
       "[50] ((dim=4|id=537|\"Electron,Site,n=50\"), (dim=803|id=9|\"Link,l=50\"), (dim=867|id=742|\"Link,l=49\"))\n",
       "[51] ((dim=4|id=525|\"Electron,Site,n=51\"), (dim=694|id=551|\"Link,l=51\"), (dim=803|id=9|\"Link,l=50\"))\n",
       "[52] ((dim=4|id=333|\"Electron,Site,n=52\"), (dim=583|id=989|\"Link,l=52\"), (dim=694|id=551|\"Link,l=51\"))\n",
       "[53] ((dim=4|id=258|\"Electron,Site,n=53\"), (dim=528|id=711|\"Link,l=53\"), (dim=583|id=989|\"Link,l=52\"))\n",
       "[54] ((dim=4|id=43|\"Electron,Site,n=54\"), (dim=398|id=885|\"Link,l=54\"), (dim=528|id=711|\"Link,l=53\"))\n",
       "[55] ((dim=4|id=89|\"Electron,Site,n=55\"), (dim=329|id=783|\"Link,l=55\"), (dim=398|id=885|\"Link,l=54\"))\n",
       "[56] ((dim=4|id=166|\"Electron,Site,n=56\"), (dim=173|id=712|\"Link,l=56\"), (dim=329|id=783|\"Link,l=55\"))\n",
       "[57] ((dim=4|id=304|\"Electron,Site,n=57\"), (dim=63|id=414|\"Link,l=57\"), (dim=173|id=712|\"Link,l=56\"))\n",
       "[58] ((dim=4|id=528|\"Electron,Site,n=58\"), (dim=16|id=420|\"Link,l=58\"), (dim=63|id=414|\"Link,l=57\"))\n",
       "[59] ((dim=4|id=523|\"Electron,Site,n=59\"), (dim=4|id=231|\"Link,l=59\"), (dim=16|id=420|\"Link,l=58\"))\n",
       "[60] ((dim=4|id=84|\"Electron,Site,n=60\"), (dim=4|id=231|\"Link,l=59\"))\n",
       ")"
      ]
     },
     "execution_count": 98,
     "metadata": {},
     "output_type": "execute_result"
    }
   ],
   "source": [
    "H = NDTensors.cu(H)\n",
    "Initial_Guess = NDTensors.cu(Initial_Guess)\n",
    "@time energy_ground_state, psi_ground_state = dmrg(H,Initial_Guess; nsweeps, maxdim, cutoff, observer = DMRG_observer, outputlevel = 1) "
   ]
  },
  {
   "cell_type": "code",
   "execution_count": 99,
   "id": "9b166963-b55f-4938-99bd-3cbbf97900f9",
   "metadata": {},
   "outputs": [
    {
     "name": "stdout",
     "output_type": "stream",
     "text": [
      "Tesla V100-SXM2-32GB #1 memory usage: 59.25 % (18.96 GB/ 32.0 GB)\n",
      "Tesla V100-SXM2-32GB #2 memory usage: 92.84 % (29.71 GB/ 32.0 GB)\n"
     ]
    },
    {
     "data": {
      "text/plain": [
       "2-element Vector{Any}:\n",
       " 59.25\n",
       " 92.84"
      ]
     },
     "execution_count": 99,
     "metadata": {},
     "output_type": "execute_result"
    }
   ],
   "source": [
    "memory_info_all_gpus()"
   ]
  },
  {
   "cell_type": "code",
   "execution_count": null,
   "id": "4f71b820-08da-4774-a45d-313110b0effe",
   "metadata": {},
   "outputs": [],
   "source": []
  }
 ],
 "metadata": {
  "kernelspec": {
   "display_name": "Julia 1.10.3",
   "language": "julia",
   "name": "julia-1.10"
  },
  "language_info": {
   "file_extension": ".jl",
   "mimetype": "application/julia",
   "name": "julia",
   "version": "1.10.3"
  }
 },
 "nbformat": 4,
 "nbformat_minor": 5
}
