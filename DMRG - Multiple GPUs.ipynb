{
 "cells": [
  {
   "cell_type": "code",
   "execution_count": 1,
   "id": "5c865672-1371-4054-bf8b-cf24f777871c",
   "metadata": {
    "tags": []
   },
   "outputs": [],
   "source": [
    "using ITensors\n",
    "using CUDA"
   ]
  },
  {
   "cell_type": "code",
   "execution_count": 2,
   "id": "f413c570-ac6b-4f78-8323-c6949df6471d",
   "metadata": {},
   "outputs": [
    {
     "data": {
      "text/plain": [
       "CUDA.DeviceIterator() for 2 devices:\n",
       "0. Tesla V100-SXM2-32GB\n",
       "1. Tesla V100-SXM2-32GB"
      ]
     },
     "execution_count": 2,
     "metadata": {},
     "output_type": "execute_result"
    }
   ],
   "source": [
    "CUDA.devices()"
   ]
  },
  {
   "cell_type": "code",
   "execution_count": 3,
   "id": "b43dd52f-33f5-45bb-b403-8e838d241385",
   "metadata": {},
   "outputs": [
    {
     "data": {
      "text/plain": [
       "clean_all_gpus (generic function with 2 methods)"
      ]
     },
     "execution_count": 3,
     "metadata": {},
     "output_type": "execute_result"
    }
   ],
   "source": [
    "#monitoring multiples gpu functions:\n",
    "\n",
    "function memory_info_all_gpus(print_info = true)\n",
    "    \n",
    "    percentages = []\n",
    "\n",
    "    scale = 1/(1024^3) #converty bytes to GB\n",
    "    for (i, dev) in enumerate(CUDA.NVML.devices())\n",
    "\n",
    "        name = CUDA.NVML.name(dev) \n",
    "        mem_info = CUDA.NVML.memory_info(dev)\n",
    "        total = round(mem_info.total*scale, sigdigits=4)\n",
    "        used = round(mem_info.used*scale, sigdigits=4)\n",
    "        free = round(mem_info.free*scale, sigdigits=4)\n",
    "        percentage= round(used*100/total, sigdigits=4)\n",
    "        \n",
    "        print_info ? println(\"$name #$i memory usage: $percentage % ($used GB/ $total GB)\" ) : nothing\n",
    "        \n",
    "        append!(percentages, percentage)\n",
    "    end\n",
    "    \n",
    "    return percentages\n",
    "end\n",
    "\n",
    "function clean_all_gpus(Deep_cleaning = false)\n",
    "    for i=reverse(0:length(CUDA.devices()) - 1)\n",
    "        global current_gpu = i\n",
    "        CUDA.device!(current_gpu)\n",
    "        Deep_cleaning ? GC.gc(true) : nothing #This could be very slow.\n",
    "        CUDA.reclaim()\n",
    "    end\n",
    "end"
   ]
  },
  {
   "cell_type": "code",
   "execution_count": 4,
   "id": "585ea7ef-9400-4d77-bd1d-28b1d2292bf0",
   "metadata": {},
   "outputs": [
    {
     "name": "stdout",
     "output_type": "stream",
     "text": [
      "Tesla V100-SXM2-32GB #1 memory usage: 0.8259 % (0.2643 GB/ 32.0 GB)\n",
      "Tesla V100-SXM2-32GB #2 memory usage: 0.8259 % (0.2643 GB/ 32.0 GB)\n",
      "  0.121026 seconds (46.23 k allocations: 3.477 MiB, 46.53% compilation time)\n",
      "Effective GPU memory usage: 0.95% (309.812 MiB/31.739 GiB)\n",
      "Memory pool usage: 0 bytes (0 bytes reserved)\n",
      "  0.774600 seconds (538.69 k allocations: 36.105 MiB, 28.96% gc time, 86.25% compilation time)\n"
     ]
    }
   ],
   "source": [
    "@time memory_info_all_gpus()\n",
    "@time CUDA.memory_status() #It just print the one that is in use."
   ]
  },
  {
   "cell_type": "code",
   "execution_count": 21,
   "id": "c76f8dd6-1316-459e-8dc9-97323847727c",
   "metadata": {},
   "outputs": [],
   "source": [
    "function Create_H_MPO(t,U, N, sites = []) \n",
    "\n",
    "    if length(sites) == 0\n",
    "        sites = siteinds(\"Electron\",N)    \n",
    "    end\n",
    "    \n",
    "    os = OpSum() \n",
    "    for j=1:N-1 \n",
    "        os += -t,\"Cdagup\",j,\"Cup\",j+1 \n",
    "        os += -t,\"Cdagup\",j+1,\"Cup\",j\n",
    "        os += -t,\"Cdagdn\",j,\"Cdn\",j+1 \n",
    "        os += -t,\"Cdagdn\",j+1,\"Cdn\",j\n",
    "    end \n",
    "\n",
    "    for j=1:N\n",
    "        os += U,\"Nup * Ndn\",j\n",
    "    end\n",
    "    # Convert these terms to an MPO \n",
    "    H = MPO(os,sites)\n",
    "    return H, sites\n",
    "end\n",
    "\n",
    "#Custom observer to measure the use of GPU:\n",
    "\n",
    "mutable struct DemoObserver <: AbstractObserver\n",
    "    energy_tol::Float64\n",
    "    last_energy::Float64\n",
    "\n",
    "    DemoObserver(energy_tol=0.0) = new(energy_tol,1000.0)\n",
    "end\n",
    "\n",
    "function ITensors.checkdone!(o::DemoObserver;kwargs...)\n",
    "    \n",
    "    CUDA.reclaim()\n",
    "    memory_info_all_gpus() #Print GPU percentage of use. \n",
    "        \n",
    "    sw = kwargs[:sweep]\n",
    "    energy = kwargs[:energy]\n",
    "    if abs(energy-o.last_energy)/abs(energy) < o.energy_tol\n",
    "    println(\"Stopping DMRG after sweep $sw\")\n",
    "    return true\n",
    "    end\n",
    "    # Otherwise, update last_energy and keep going\n",
    "    o.last_energy = energy\n",
    "    return false\n",
    "end"
   ]
  },
  {
   "cell_type": "code",
   "execution_count": 22,
   "id": "0a04ab1b-8fe6-4f45-aa2a-ea5655831c02",
   "metadata": {},
   "outputs": [
    {
     "name": "stdout",
     "output_type": "stream",
     "text": [
      "Tesla V100-SXM2-32GB #1 memory usage: 2.407 % (0.7702 GB/ 32.0 GB)\n",
      "Tesla V100-SXM2-32GB #2 memory usage: 1.76 % (0.5632 GB/ 32.0 GB)\n"
     ]
    },
    {
     "data": {
      "text/plain": [
       "2-element Vector{Any}:\n",
       " 2.407\n",
       " 1.76"
      ]
     },
     "execution_count": 22,
     "metadata": {},
     "output_type": "execute_result"
    }
   ],
   "source": [
    "clean_all_gpus(true)\n",
    "memory_info_all_gpus()"
   ]
  },
  {
   "cell_type": "code",
   "execution_count": 23,
   "id": "d7fb86bc-d935-46f1-9b40-53a60cedc539",
   "metadata": {},
   "outputs": [
    {
     "data": {
      "text/plain": [
       "DemoObserver(1.0e-7, 1000.0)"
      ]
     },
     "execution_count": 23,
     "metadata": {},
     "output_type": "execute_result"
    }
   ],
   "source": [
    "N = 140\n",
    "t = 1\n",
    "U = 1\n",
    "\n",
    "nsweeps = 100\n",
    "maxdim = [1500] #maxdim - integer or array of integers specifying the maximum size allowed for the bond dimension or rank of the MPS being optimized\n",
    "cutoff = [1E-10] #maxdim - integer or array of integers specifying the maximum size allowed for the bond dimension or rank of the MPS being optimized\n",
    "# DMRG_observer = DMRGObserver(;energy_tol=10e-8, minsweeps=10, energy_type=Float64)\n",
    "DMRG_observer = DemoObserver(10e-8)"
   ]
  },
  {
   "cell_type": "code",
   "execution_count": 24,
   "id": "1d0ae5e2-97c2-454f-b16d-df9a1bdcf09d",
   "metadata": {},
   "outputs": [],
   "source": [
    "H, sites = Create_H_MPO(t,U, N) \n",
    "Initial_Guess = randomMPS(sites);\n",
    "# @time energy_ground_state, psi_ground_state = dmrg(H,Initial_Guess; nsweeps, maxdim, cutoff, observer = DMRG_observer, outputlevel = 1) "
   ]
  },
  {
   "cell_type": "code",
   "execution_count": 25,
   "id": "a3df4b4d-2d51-469e-8a8b-d78d82589c8f",
   "metadata": {
    "tags": []
   },
   "outputs": [],
   "source": [
    "H = NDTensors.cu(H)\n",
    "Initial_Guess = NDTensors.cu(Initial_Guess);\n",
    "\n",
    "# H = NDTensors.cu(H; storagemode=CUDA.UnifiedMemory)\n",
    "# Initial_Guess = NDTensors.cu(Initial_Guess; storagemode=CUDA.UnifiedMemory);"
   ]
  },
  {
   "cell_type": "code",
   "execution_count": 26,
   "id": "b445cb42-232d-4095-b67f-043d3116bbb1",
   "metadata": {
    "scrolled": true
   },
   "outputs": [
    {
     "name": "stdout",
     "output_type": "stream",
     "text": [
      "After sweep 1 energy=-145.020342982526  maxlinkdim=16 maxerr=3.70E-16 time=1.084\n",
      "Tesla V100-SXM2-32GB #1 memory usage: 2.7 % (0.864 GB/ 32.0 GB)\n",
      "Tesla V100-SXM2-32GB #2 memory usage: 1.76 % (0.5632 GB/ 32.0 GB)\n",
      "After sweep 2 energy=-148.80206937737617  maxlinkdim=168 maxerr=1.00E-10 time=2.532\n",
      "Tesla V100-SXM2-32GB #1 memory usage: 20.09 % (6.428 GB/ 32.0 GB)\n",
      "Tesla V100-SXM2-32GB #2 memory usage: 1.76 % (0.5632 GB/ 32.0 GB)\n",
      "After sweep 3 energy=-149.05029474281758  maxlinkdim=219 maxerr=1.00E-10 time=4.607\n",
      "Tesla V100-SXM2-32GB #1 memory usage: 31.02 % (9.928 GB/ 32.0 GB)\n",
      "Tesla V100-SXM2-32GB #2 memory usage: 1.76 % (0.5632 GB/ 32.0 GB)\n",
      "After sweep 4 energy=-149.1879160956947  maxlinkdim=251 maxerr=1.00E-10 time=4.933\n",
      "Tesla V100-SXM2-32GB #1 memory usage: 31.81 % (10.18 GB/ 32.0 GB)\n",
      "Tesla V100-SXM2-32GB #2 memory usage: 1.76 % (0.5632 GB/ 32.0 GB)\n",
      "After sweep 5 energy=-149.28202884310565  maxlinkdim=365 maxerr=9.99E-11 time=5.586\n",
      "Tesla V100-SXM2-32GB #1 memory usage: 25.07 % (8.022 GB/ 32.0 GB)\n",
      "Tesla V100-SXM2-32GB #2 memory usage: 1.76 % (0.5632 GB/ 32.0 GB)\n",
      "After sweep 6 energy=-149.36516730299465  maxlinkdim=647 maxerr=1.00E-10 time=6.857\n",
      "Tesla V100-SXM2-32GB #1 memory usage: 30.15 % (9.647 GB/ 32.0 GB)\n",
      "Tesla V100-SXM2-32GB #2 memory usage: 1.76 % (0.5632 GB/ 32.0 GB)\n",
      "After sweep 7 energy=-149.41697926316667  maxlinkdim=485 maxerr=1.00E-10 time=8.281\n",
      "Tesla V100-SXM2-32GB #1 memory usage: 37.28 % (11.93 GB/ 32.0 GB)\n",
      "Tesla V100-SXM2-32GB #2 memory usage: 1.76 % (0.5632 GB/ 32.0 GB)\n",
      "After sweep 8 energy=-149.462876974724  maxlinkdim=584 maxerr=1.00E-10 time=11.686\n",
      "Tesla V100-SXM2-32GB #1 memory usage: 49.28 % (15.77 GB/ 32.0 GB)\n",
      "Tesla V100-SXM2-32GB #2 memory usage: 1.76 % (0.5632 GB/ 32.0 GB)\n",
      "After sweep 9 energy=-149.50084965148446  maxlinkdim=853 maxerr=1.00E-10 time=17.301\n",
      "Tesla V100-SXM2-32GB #1 memory usage: 51.53 % (16.49 GB/ 32.0 GB)\n",
      "Tesla V100-SXM2-32GB #2 memory usage: 1.76 % (0.5632 GB/ 32.0 GB)\n",
      "After sweep 10 energy=-149.53897911511206  maxlinkdim=863 maxerr=1.00E-10 time=29.240\n",
      "Tesla V100-SXM2-32GB #1 memory usage: 36.5 % (11.68 GB/ 32.0 GB)\n",
      "Tesla V100-SXM2-32GB #2 memory usage: 1.76 % (0.5632 GB/ 32.0 GB)\n",
      "After sweep 11 energy=-149.55350090088604  maxlinkdim=859 maxerr=1.00E-10 time=47.776\n",
      "Tesla V100-SXM2-32GB #1 memory usage: 67.34 % (21.55 GB/ 32.0 GB)\n",
      "Tesla V100-SXM2-32GB #2 memory usage: 1.76 % (0.5632 GB/ 32.0 GB)\n",
      "After sweep 12 energy=-149.56127765211306  maxlinkdim=1209 maxerr=1.00E-10 time=59.761\n",
      "Tesla V100-SXM2-32GB #1 memory usage: 40.5 % (12.96 GB/ 32.0 GB)\n",
      "Tesla V100-SXM2-32GB #2 memory usage: 1.76 % (0.5632 GB/ 32.0 GB)\n",
      "After sweep 13 energy=-149.56701055911364  maxlinkdim=1500 maxerr=2.96E-09 time=88.416\n",
      "Tesla V100-SXM2-32GB #1 memory usage: 44.78 % (14.33 GB/ 32.0 GB)\n",
      "Tesla V100-SXM2-32GB #2 memory usage: 1.76 % (0.5632 GB/ 32.0 GB)\n",
      "After sweep 14 energy=-149.57079356936782  maxlinkdim=1500 maxerr=4.43E-09 time=117.761\n",
      "Tesla V100-SXM2-32GB #1 memory usage: 86.78 % (27.77 GB/ 32.0 GB)\n",
      "Tesla V100-SXM2-32GB #2 memory usage: 1.76 % (0.5632 GB/ 32.0 GB)\n",
      "After sweep 15 energy=-149.57299992393249  maxlinkdim=1500 maxerr=2.05E-09 time=140.277\n",
      "Tesla V100-SXM2-32GB #1 memory usage: 87.28 % (27.93 GB/ 32.0 GB)\n",
      "Tesla V100-SXM2-32GB #2 memory usage: 1.76 % (0.5632 GB/ 32.0 GB)\n",
      "After sweep 16 energy=-149.57441865687824  maxlinkdim=1500 maxerr=1.24E-08 time=198.499\n",
      "Tesla V100-SXM2-32GB #1 memory usage: 79.16 % (25.33 GB/ 32.0 GB)\n",
      "Tesla V100-SXM2-32GB #2 memory usage: 1.76 % (0.5632 GB/ 32.0 GB)\n",
      "After sweep 17 energy=-149.5753216932942  maxlinkdim=1500 maxerr=8.86E-09 time=255.403\n",
      "Tesla V100-SXM2-32GB #1 memory usage: 68.62 % (21.96 GB/ 32.0 GB)\n",
      "Tesla V100-SXM2-32GB #2 memory usage: 1.76 % (0.5632 GB/ 32.0 GB)\n",
      "After sweep 18 energy=-149.57574741740734  maxlinkdim=1500 maxerr=1.68E-09 time=425.899\n",
      "Tesla V100-SXM2-32GB #1 memory usage: 82.41 % (26.37 GB/ 32.0 GB)\n",
      "Tesla V100-SXM2-32GB #2 memory usage: 1.76 % (0.5632 GB/ 32.0 GB)\n"
     ]
    },
    {
     "ename": "LoadError",
     "evalue": "Out of GPU memory trying to allocate 1.565 GiB\nEffective GPU memory usage: 82.25% (26.105 GiB/31.739 GiB)\nMemory pool usage: 20.735 GiB (25.719 GiB reserved)\n",
     "output_type": "error",
     "traceback": [
      "Out of GPU memory trying to allocate 1.565 GiB\nEffective GPU memory usage: 82.25% (26.105 GiB/31.739 GiB)\nMemory pool usage: 20.735 GiB (25.719 GiB reserved)\n",
      "",
      "Stacktrace:",
      "  [1] _pool_alloc",
      "    @ ~/.julia/packages/CUDA/75aiI/src/memory.jl:660 [inlined]",
      "  [2] macro expansion",
      "    @ ~/.julia/packages/CUDA/75aiI/src/memory.jl:617 [inlined]",
      "  [3] macro expansion",
      "    @ ./timing.jl:395 [inlined]",
      "  [4] pool_alloc",
      "    @ ~/.julia/packages/CUDA/75aiI/src/memory.jl:616 [inlined]",
      "  [5] CuArray{Float64, 5, CUDA.DeviceMemory}(::UndefInitializer, dims::NTuple{5, Int64})",
      "    @ CUDA ~/.julia/packages/CUDA/75aiI/src/array.jl:74",
      "  [6] similar",
      "    @ ~/.julia/packages/CUDA/75aiI/src/array.jl:172 [inlined]",
      "  [7] permutedims(B::CuArray{Float64, 5, CUDA.DeviceMemory}, perm::NTuple{5, Int64})",
      "    @ Base ./multidimensional.jl:1599",
      "  [8] permutedims",
      "    @ ~/.julia/packages/NDTensors/PHg2u/src/lib/Expose/src/functions/permutedims.jl:2 [inlined]",
      "  [9] _contract!(CT::CuArray{Float64, 5, CUDA.DeviceMemory}, AT::CuArray{Float64, 5, CUDA.DeviceMemory}, BT::CuArray{Float64, 4, CUDA.DeviceMemory}, props::NDTensors.ContractionProperties{5, 4, 5}, α::Bool, β::Bool)",
      "    @ NDTensors ~/.julia/packages/NDTensors/PHg2u/src/abstractarray/tensoralgebra/contract.jl:126",
      " [10] _contract!",
      "    @ ~/.julia/packages/NDTensors/PHg2u/src/dense/tensoralgebra/contract.jl:228 [inlined]",
      " [11] contract!(R::NDTensors.DenseTensor{Float64, 5, NTuple{5, Index{Int64}}, NDTensors.Dense{Float64, CuArray{Float64, 1, CUDA.DeviceMemory}}}, labelsR::NTuple{5, Int64}, T1::NDTensors.DenseTensor{Float64, 5, NTuple{5, Index{Int64}}, NDTensors.Dense{Float64, CuArray{Float64, 1, CUDA.DeviceMemory}}}, labelsT1::NTuple{5, Int64}, T2::NDTensors.DenseTensor{Float64, 4, NTuple{4, Index{Int64}}, NDTensors.Dense{Float64, CuArray{Float64, 1, CUDA.DeviceMemory}}}, labelsT2::NTuple{4, Int64}, α::Bool, β::Bool)",
      "    @ NDTensors ~/.julia/packages/NDTensors/PHg2u/src/dense/tensoralgebra/contract.jl:211",
      " [12] contract! (repeats 2 times)",
      "    @ ~/.julia/packages/NDTensors/PHg2u/src/tensoroperations/generic_tensor_operations.jl:165 [inlined]",
      " [13] _contract!!",
      "    @ ~/.julia/packages/NDTensors/PHg2u/src/tensoroperations/generic_tensor_operations.jl:143 [inlined]",
      " [14] _contract!!",
      "    @ ~/.julia/packages/NDTensors/PHg2u/src/tensoroperations/generic_tensor_operations.jl:131 [inlined]",
      " [15] contract!!",
      "    @ ~/.julia/packages/NDTensors/PHg2u/src/tensoroperations/generic_tensor_operations.jl:219 [inlined]",
      " [16] contract!!",
      "    @ ~/.julia/packages/NDTensors/PHg2u/src/tensoroperations/generic_tensor_operations.jl:188 [inlined]",
      " [17] contract(tensor1::NDTensors.DenseTensor{Float64, 5, NTuple{5, Index{Int64}}, NDTensors.Dense{Float64, CuArray{Float64, 1, CUDA.DeviceMemory}}}, labelstensor1::NTuple{5, Int64}, tensor2::NDTensors.DenseTensor{Float64, 4, NTuple{4, Index{Int64}}, NDTensors.Dense{Float64, CuArray{Float64, 1, CUDA.DeviceMemory}}}, labelstensor2::NTuple{4, Int64}, labelsoutput_tensor::NTuple{5, Int64})",
      "    @ NDTensors ~/.julia/packages/NDTensors/PHg2u/src/tensoroperations/generic_tensor_operations.jl:113",
      " [18] contract(::Type{NDTensors.CanContract{NDTensors.DenseTensor{Float64, 5, NTuple{5, Index{Int64}}, NDTensors.Dense{Float64, CuArray{Float64, 1, CUDA.DeviceMemory}}}, NDTensors.DenseTensor{Float64, 4, NTuple{4, Index{Int64}}, NDTensors.Dense{Float64, CuArray{Float64, 1, CUDA.DeviceMemory}}}}}, tensor1::NDTensors.DenseTensor{Float64, 5, NTuple{5, Index{Int64}}, NDTensors.Dense{Float64, CuArray{Float64, 1, CUDA.DeviceMemory}}}, labels_tensor1::NTuple{5, Int64}, tensor2::NDTensors.DenseTensor{Float64, 4, NTuple{4, Index{Int64}}, NDTensors.Dense{Float64, CuArray{Float64, 1, CUDA.DeviceMemory}}}, labels_tensor2::NTuple{4, Int64})",
      "    @ NDTensors ~/.julia/packages/NDTensors/PHg2u/src/tensoroperations/generic_tensor_operations.jl:91",
      " [19] contract",
      "    @ ~/.julia/packages/SimpleTraits/l1ZsK/src/SimpleTraits.jl:331 [inlined]",
      " [20] _contract(A::NDTensors.DenseTensor{Float64, 5, NTuple{5, Index{Int64}}, NDTensors.Dense{Float64, CuArray{Float64, 1, CUDA.DeviceMemory}}}, B::NDTensors.DenseTensor{Float64, 4, NTuple{4, Index{Int64}}, NDTensors.Dense{Float64, CuArray{Float64, 1, CUDA.DeviceMemory}}})",
      "    @ ITensors ~/.julia/packages/ITensors/nUzgj/src/tensor_operations/tensor_algebra.jl:3",
      " [21] _contract(A::ITensor, B::ITensor)",
      "    @ ITensors ~/.julia/packages/ITensors/nUzgj/src/tensor_operations/tensor_algebra.jl:9",
      " [22] contract(A::ITensor, B::ITensor)",
      "    @ ITensors ~/.julia/packages/ITensors/nUzgj/src/tensor_operations/tensor_algebra.jl:74",
      " [23] *",
      "    @ ~/.julia/packages/ITensors/nUzgj/src/tensor_operations/tensor_algebra.jl:61 [inlined]",
      " [24] contract(P::ProjMPO, v::ITensor)",
      "    @ ITensors.ITensorMPS ~/.julia/packages/ITensors/nUzgj/src/lib/ITensorMPS/src/abstractprojmpo/abstractprojmpo.jl:51",
      " [25] product(P::ProjMPO, v::ITensor)",
      "    @ ITensors.ITensorMPS ~/.julia/packages/ITensors/nUzgj/src/lib/ITensorMPS/src/abstractprojmpo/abstractprojmpo.jl:71",
      " [26] AbstractProjMPO",
      "    @ ~/.julia/packages/ITensors/nUzgj/src/lib/ITensorMPS/src/abstractprojmpo/abstractprojmpo.jl:87 [inlined]",
      " [27] apply",
      "    @ ~/.julia/packages/KrylovKit/y3tnZ/src/apply.jl:2 [inlined]",
      " [28] initialize(iter::KrylovKit.LanczosIterator{ProjMPO, ITensor, KrylovKit.ModifiedGramSchmidt2}; verbosity::Int64)",
      "    @ KrylovKit ~/.julia/packages/KrylovKit/y3tnZ/src/factorizations/lanczos.jl:179",
      " [29] initialize",
      "    @ ~/.julia/packages/KrylovKit/y3tnZ/src/factorizations/lanczos.jl:174 [inlined]",
      " [30] eigsolve(A::ProjMPO, x₀::ITensor, howmany::Int64, which::Symbol, alg::KrylovKit.Lanczos{KrylovKit.ModifiedGramSchmidt2, Float64}; alg_rrule::KrylovKit.Arnoldi{KrylovKit.ModifiedGramSchmidt2, Float64})",
      "    @ KrylovKit ~/.julia/packages/KrylovKit/y3tnZ/src/eigsolve/lanczos.jl:16",
      " [31] eigsolve",
      "    @ ~/.julia/packages/KrylovKit/y3tnZ/src/eigsolve/lanczos.jl:1 [inlined]",
      " [32] #eigsolve#38",
      "    @ ~/.julia/packages/KrylovKit/y3tnZ/src/eigsolve/eigsolve.jl:218 [inlined]",
      " [33] eigsolve",
      "    @ ~/.julia/packages/KrylovKit/y3tnZ/src/eigsolve/eigsolve.jl:192 [inlined]",
      " [34] macro expansion",
      "    @ ~/.julia/packages/ITensors/nUzgj/src/lib/ITensorMPS/src/dmrg.jl:239 [inlined]",
      " [35] macro expansion",
      "    @ ~/.julia/packages/TimerOutputs/Lw5SP/src/TimerOutput.jl:253 [inlined]",
      " [36] macro expansion",
      "    @ ~/.julia/packages/ITensors/nUzgj/src/lib/ITensorMPS/src/dmrg.jl:238 [inlined]",
      " [37] macro expansion",
      "    @ ./timing.jl:395 [inlined]",
      " [38] dmrg(PH::ProjMPO, psi0::MPS, sweeps::Sweeps; which_decomp::Nothing, svd_alg::Nothing, observer::DemoObserver, outputlevel::Int64, write_when_maxdim_exceeds::Nothing, write_path::String, eigsolve_tol::Float64, eigsolve_krylovdim::Int64, eigsolve_maxiter::Int64, eigsolve_verbosity::Int64, eigsolve_which_eigenvalue::Symbol, ishermitian::Bool)",
      "    @ ITensors.ITensorMPS ~/.julia/packages/ITensors/nUzgj/src/lib/ITensorMPS/src/dmrg.jl:206",
      " [39] dmrg",
      "    @ ~/.julia/packages/ITensors/nUzgj/src/lib/ITensorMPS/src/dmrg.jl:158 [inlined]",
      " [40] #dmrg#509",
      "    @ ~/.julia/packages/ITensors/nUzgj/src/lib/ITensorMPS/src/dmrg.jl:28 [inlined]",
      " [41] dmrg",
      "    @ ~/.julia/packages/ITensors/nUzgj/src/lib/ITensorMPS/src/dmrg.jl:21 [inlined]",
      " [42] #dmrg#515",
      "    @ ~/.julia/packages/ITensors/nUzgj/src/lib/ITensorMPS/src/dmrg.jl:388 [inlined]",
      " [43] macro expansion",
      "    @ ./timing.jl:279 [inlined]",
      " [44] top-level scope",
      "    @ ./In[26]:1"
     ]
    }
   ],
   "source": [
    "@time energy_ground_state, psi_ground_state = dmrg(H,Initial_Guess; nsweeps, maxdim, cutoff, observer = DMRG_observer, outputlevel = 1) "
   ]
  },
  {
   "cell_type": "markdown",
   "id": "46e18cbc-5db0-41f7-ae71-d957c6ea2c9a",
   "metadata": {},
   "source": [
    "Here is clear that ITensors - DMRG does not works automatically with multiple GPUS. "
   ]
  },
  {
   "cell_type": "code",
   "execution_count": 18,
   "id": "b48a27a1-57c2-4b86-88b2-863885ee26e3",
   "metadata": {},
   "outputs": [
    {
     "name": "stdout",
     "output_type": "stream",
     "text": [
      "Tesla V100-SXM2-32GB #1 memory usage: 2.309 % (0.739 GB/ 32.0 GB)\n",
      "Tesla V100-SXM2-32GB #2 memory usage: 1.76 % (0.5632 GB/ 32.0 GB)\n"
     ]
    },
    {
     "data": {
      "text/plain": [
       "2-element Vector{Any}:\n",
       " 2.309\n",
       " 1.76"
      ]
     },
     "execution_count": 18,
     "metadata": {},
     "output_type": "execute_result"
    }
   ],
   "source": [
    "clean_all_gpus(true)\n",
    "memory_info_all_gpus()"
   ]
  },
  {
   "cell_type": "code",
   "execution_count": 19,
   "id": "94958c10-8b7b-4fae-93d1-9df7ff119792",
   "metadata": {},
   "outputs": [],
   "source": [
    "#Final version ? \n",
    "\n",
    "global current_gpu = 0 #the code always starts running with GPU 1.\n",
    "CUDA.device!(current_gpu)\n",
    "\n",
    "function ITensors.checkdone!(o::DemoObserver;kwargs...)\n",
    "    \n",
    "    CUDA.reclaim() #It is the faster way to clean.\n",
    "    percentage = memory_info_all_gpus() #Print GPU percentage of use. \n",
    "    \n",
    "    if percentage[current_gpu + 1] >= 90\n",
    "        \n",
    "        global current_gpu = current_gpu + 1\n",
    "        \n",
    "        current_gpu == length(CUDA.devices()) ? CUDA.reclaim() : @time CUDA.device!(current_gpu) \n",
    "        \n",
    "        # if current_gpu == length(CUDA.devices()) \n",
    "        #     global current_gpu = 0 \n",
    "        # end\n",
    "        \n",
    "        CUDA.device!(current_gpu)\n",
    "    end    \n",
    "        \n",
    "    sw = kwargs[:sweep]\n",
    "    energy = kwargs[:energy]\n",
    "    if abs(energy-o.last_energy)/abs(energy) < o.energy_tol\n",
    "    println(\"Stopping DMRG after sweep $sw\")\n",
    "    return true\n",
    "    end\n",
    "    # Otherwise, update last_energy and keep going\n",
    "    o.last_energy = energy\n",
    "    return false\n",
    "end"
   ]
  },
  {
   "cell_type": "code",
   "execution_count": 20,
   "id": "fd61c44d-e325-4166-ac18-c6f5febc754a",
   "metadata": {
    "scrolled": true
   },
   "outputs": [
    {
     "name": "stdout",
     "output_type": "stream",
     "text": [
      "After sweep 1 energy=-5.377057396686317  maxlinkdim=16 maxerr=0.00E+00 time=0.034\n",
      "Tesla V100-SXM2-32GB #1 memory usage: 2.309 % (0.739 GB/ 32.0 GB)\n",
      "Tesla V100-SXM2-32GB #2 memory usage: 1.76 % (0.5632 GB/ 32.0 GB)\n",
      "After sweep 2 energy=-5.635730087143738  maxlinkdim=62 maxerr=7.56E-11 time=0.041\n",
      "Tesla V100-SXM2-32GB #1 memory usage: 2.309 % (0.739 GB/ 32.0 GB)\n",
      "Tesla V100-SXM2-32GB #2 memory usage: 1.76 % (0.5632 GB/ 32.0 GB)\n",
      "After sweep 3 energy=-5.640267766121047  maxlinkdim=60 maxerr=6.30E-11 time=0.040\n",
      "Tesla V100-SXM2-32GB #1 memory usage: 2.407 % (0.7702 GB/ 32.0 GB)\n",
      "Tesla V100-SXM2-32GB #2 memory usage: 1.76 % (0.5632 GB/ 32.0 GB)\n",
      "After sweep 4 energy=-5.641159604795807  maxlinkdim=59 maxerr=5.02E-11 time=0.040\n",
      "Tesla V100-SXM2-32GB #1 memory usage: 2.505 % (0.8015 GB/ 32.0 GB)\n",
      "Tesla V100-SXM2-32GB #2 memory usage: 1.76 % (0.5632 GB/ 32.0 GB)\n",
      "After sweep 5 energy=-5.641799391896577  maxlinkdim=59 maxerr=4.53E-11 time=0.040\n",
      "Tesla V100-SXM2-32GB #1 memory usage: 2.602 % (0.8327 GB/ 32.0 GB)\n",
      "Tesla V100-SXM2-32GB #2 memory usage: 1.76 % (0.5632 GB/ 32.0 GB)\n",
      "After sweep 6 energy=-5.642344585121384  maxlinkdim=59 maxerr=9.39E-11 time=0.040\n",
      "Tesla V100-SXM2-32GB #1 memory usage: 2.7 % (0.864 GB/ 32.0 GB)\n",
      "Tesla V100-SXM2-32GB #2 memory usage: 1.76 % (0.5632 GB/ 32.0 GB)\n",
      "After sweep 7 energy=-5.6427958056883325  maxlinkdim=58 maxerr=9.22E-11 time=0.040\n",
      "Tesla V100-SXM2-32GB #1 memory usage: 2.798 % (0.8952 GB/ 32.0 GB)\n",
      "Tesla V100-SXM2-32GB #2 memory usage: 1.76 % (0.5632 GB/ 32.0 GB)\n",
      "After sweep 8 energy=-5.643158713593543  maxlinkdim=57 maxerr=8.28E-11 time=0.040\n",
      "Tesla V100-SXM2-32GB #1 memory usage: 2.895 % (0.9265 GB/ 32.0 GB)\n",
      "Tesla V100-SXM2-32GB #2 memory usage: 1.76 % (0.5632 GB/ 32.0 GB)\n",
      "After sweep 9 energy=-5.643441923031741  maxlinkdim=56 maxerr=9.37E-11 time=0.040\n",
      "Tesla V100-SXM2-32GB #1 memory usage: 2.993 % (0.9577 GB/ 32.0 GB)\n",
      "Tesla V100-SXM2-32GB #2 memory usage: 1.76 % (0.5632 GB/ 32.0 GB)\n",
      "After sweep 10 energy=-5.643656479069509  maxlinkdim=55 maxerr=8.30E-11 time=0.071\n",
      "Tesla V100-SXM2-32GB #1 memory usage: 2.407 % (0.7702 GB/ 32.0 GB)\n",
      "Tesla V100-SXM2-32GB #2 memory usage: 1.76 % (0.5632 GB/ 32.0 GB)\n",
      "After sweep 11 energy=-5.643814897080956  maxlinkdim=54 maxerr=9.05E-11 time=0.039\n",
      "Tesla V100-SXM2-32GB #1 memory usage: 2.407 % (0.7702 GB/ 32.0 GB)\n",
      "Tesla V100-SXM2-32GB #2 memory usage: 1.76 % (0.5632 GB/ 32.0 GB)\n",
      "After sweep 12 energy=-5.6439293012862874  maxlinkdim=53 maxerr=9.52E-11 time=0.040\n",
      "Tesla V100-SXM2-32GB #1 memory usage: 2.505 % (0.8015 GB/ 32.0 GB)\n",
      "Tesla V100-SXM2-32GB #2 memory usage: 1.76 % (0.5632 GB/ 32.0 GB)\n",
      "After sweep 13 energy=-5.64401076958524  maxlinkdim=52 maxerr=7.72E-11 time=0.039\n",
      "Tesla V100-SXM2-32GB #1 memory usage: 2.505 % (0.8015 GB/ 32.0 GB)\n",
      "Tesla V100-SXM2-32GB #2 memory usage: 1.76 % (0.5632 GB/ 32.0 GB)\n",
      "After sweep 14 energy=-5.6440681619762305  maxlinkdim=51 maxerr=7.11E-11 time=0.039\n",
      "Tesla V100-SXM2-32GB #1 memory usage: 2.602 % (0.8327 GB/ 32.0 GB)\n",
      "Tesla V100-SXM2-32GB #2 memory usage: 1.76 % (0.5632 GB/ 32.0 GB)\n",
      "After sweep 15 energy=-5.644108246317691  maxlinkdim=49 maxerr=9.72E-11 time=0.039\n",
      "Tesla V100-SXM2-32GB #1 memory usage: 2.7 % (0.864 GB/ 32.0 GB)\n",
      "Tesla V100-SXM2-32GB #2 memory usage: 1.76 % (0.5632 GB/ 32.0 GB)\n",
      "After sweep 16 energy=-5.644136064738599  maxlinkdim=48 maxerr=9.36E-11 time=0.039\n",
      "Tesla V100-SXM2-32GB #1 memory usage: 2.798 % (0.8952 GB/ 32.0 GB)\n",
      "Tesla V100-SXM2-32GB #2 memory usage: 1.76 % (0.5632 GB/ 32.0 GB)\n",
      "After sweep 17 energy=-5.644155288755635  maxlinkdim=46 maxerr=9.96E-11 time=0.039\n",
      "Tesla V100-SXM2-32GB #1 memory usage: 2.895 % (0.9265 GB/ 32.0 GB)\n",
      "Tesla V100-SXM2-32GB #2 memory usage: 1.76 % (0.5632 GB/ 32.0 GB)\n",
      "After sweep 18 energy=-5.644168551477278  maxlinkdim=44 maxerr=9.97E-11 time=0.041\n",
      "Tesla V100-SXM2-32GB #1 memory usage: 2.993 % (0.9577 GB/ 32.0 GB)\n",
      "Tesla V100-SXM2-32GB #2 memory usage: 1.76 % (0.5632 GB/ 32.0 GB)\n",
      "After sweep 19 energy=-5.644177675833999  maxlinkdim=42 maxerr=9.76E-11 time=0.038\n",
      "Tesla V100-SXM2-32GB #1 memory usage: 2.993 % (0.9577 GB/ 32.0 GB)\n",
      "Tesla V100-SXM2-32GB #2 memory usage: 1.76 % (0.5632 GB/ 32.0 GB)\n",
      "After sweep 20 energy=-5.6441839423046964  maxlinkdim=41 maxerr=6.99E-11 time=0.073\n",
      "Tesla V100-SXM2-32GB #1 memory usage: 2.407 % (0.7702 GB/ 32.0 GB)\n",
      "Tesla V100-SXM2-32GB #2 memory usage: 1.76 % (0.5632 GB/ 32.0 GB)\n",
      "After sweep 21 energy=-5.644188236900095  maxlinkdim=39 maxerr=9.34E-11 time=0.038\n",
      "Tesla V100-SXM2-32GB #1 memory usage: 2.407 % (0.7702 GB/ 32.0 GB)\n",
      "Tesla V100-SXM2-32GB #2 memory usage: 1.76 % (0.5632 GB/ 32.0 GB)\n",
      "After sweep 22 energy=-5.644191181851326  maxlinkdim=38 maxerr=8.85E-11 time=0.038\n",
      "Tesla V100-SXM2-32GB #1 memory usage: 2.407 % (0.7702 GB/ 32.0 GB)\n",
      "Tesla V100-SXM2-32GB #2 memory usage: 1.76 % (0.5632 GB/ 32.0 GB)\n",
      "After sweep 23 energy=-5.644193196933081  maxlinkdim=36 maxerr=9.70E-11 time=0.038\n",
      "Tesla V100-SXM2-32GB #1 memory usage: 2.505 % (0.8015 GB/ 32.0 GB)\n",
      "Tesla V100-SXM2-32GB #2 memory usage: 1.76 % (0.5632 GB/ 32.0 GB)\n",
      "After sweep 24 energy=-5.644194587902635  maxlinkdim=35 maxerr=8.43E-11 time=0.037\n",
      "Tesla V100-SXM2-32GB #1 memory usage: 2.505 % (0.8015 GB/ 32.0 GB)\n",
      "Tesla V100-SXM2-32GB #2 memory usage: 1.76 % (0.5632 GB/ 32.0 GB)\n",
      "After sweep 25 energy=-5.64419554474088  maxlinkdim=35 maxerr=8.86E-11 time=0.037\n",
      "Tesla V100-SXM2-32GB #1 memory usage: 2.602 % (0.8327 GB/ 32.0 GB)\n",
      "Tesla V100-SXM2-32GB #2 memory usage: 1.76 % (0.5632 GB/ 32.0 GB)\n",
      "After sweep 26 energy=-5.644196222442106  maxlinkdim=34 maxerr=9.80E-11 time=0.037\n",
      "Tesla V100-SXM2-32GB #1 memory usage: 2.602 % (0.8327 GB/ 32.0 GB)\n",
      "Tesla V100-SXM2-32GB #2 memory usage: 1.76 % (0.5632 GB/ 32.0 GB)\n",
      "After sweep 27 energy=-5.644196619655373  maxlinkdim=34 maxerr=9.90E-11 time=0.038\n",
      "Tesla V100-SXM2-32GB #1 memory usage: 2.7 % (0.864 GB/ 32.0 GB)\n",
      "Tesla V100-SXM2-32GB #2 memory usage: 1.76 % (0.5632 GB/ 32.0 GB)\n",
      "Stopping DMRG after sweep 27\n",
      "  1.263660 seconds (2.14 M allocations: 142.185 MiB, 2.72% gc time, 10.75% compilation time: 75% of which was recompilation)\n"
     ]
    },
    {
     "data": {
      "text/plain": [
       "(-5.644196619655373, MPS\n",
       "[1] ((dim=4|id=431|\"Link,l=1\"), (dim=4|id=929|\"Electron,Site,n=1\"))\n",
       "[2] ((dim=16|id=847|\"Link,l=2\"), (dim=4|id=800|\"Electron,Site,n=2\"), (dim=4|id=431|\"Link,l=1\"))\n",
       "[3] ((dim=4|id=748|\"Electron,Site,n=3\"), (dim=34|id=795|\"Link,l=3\"), (dim=16|id=847|\"Link,l=2\"))\n",
       "[4] ((dim=4|id=545|\"Electron,Site,n=4\"), (dim=16|id=851|\"Link,l=4\"), (dim=34|id=795|\"Link,l=3\"))\n",
       "[5] ((dim=4|id=626|\"Electron,Site,n=5\"), (dim=4|id=437|\"Link,l=5\"), (dim=16|id=851|\"Link,l=4\"))\n",
       "[6] ((dim=4|id=86|\"Electron,Site,n=6\"), (dim=4|id=437|\"Link,l=5\"))\n",
       ")"
      ]
     },
     "execution_count": 20,
     "metadata": {},
     "output_type": "execute_result"
    }
   ],
   "source": [
    "@time energy_ground_state, psi_ground_state = dmrg(H,Initial_Guess; nsweeps, maxdim, cutoff, observer = DMRG_observer, outputlevel = 1) "
   ]
  },
  {
   "cell_type": "code",
   "execution_count": null,
   "id": "5f73d207-4b0c-43f4-bf21-390665cc27d5",
   "metadata": {},
   "outputs": [],
   "source": []
  },
  {
   "cell_type": "code",
   "execution_count": null,
   "id": "f0518aa8-703a-468b-be77-1b5a3d391434",
   "metadata": {},
   "outputs": [],
   "source": []
  }
 ],
 "metadata": {
  "kernelspec": {
   "display_name": "Julia 1.10.3",
   "language": "julia",
   "name": "julia-1.10"
  },
  "language_info": {
   "file_extension": ".jl",
   "mimetype": "application/julia",
   "name": "julia",
   "version": "1.10.3"
  }
 },
 "nbformat": 4,
 "nbformat_minor": 5
}
