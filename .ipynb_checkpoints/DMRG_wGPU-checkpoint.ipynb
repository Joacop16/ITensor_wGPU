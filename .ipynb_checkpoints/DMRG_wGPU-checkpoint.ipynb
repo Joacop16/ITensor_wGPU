{
 "cells": [
  {
   "cell_type": "code",
   "execution_count": 1,
   "id": "5c865672-1371-4054-bf8b-cf24f777871c",
   "metadata": {
    "tags": []
   },
   "outputs": [],
   "source": [
    "using ITensors\n",
    "using CUDA"
   ]
  },
  {
   "cell_type": "code",
   "execution_count": 2,
   "id": "f413c570-ac6b-4f78-8323-c6949df6471d",
   "metadata": {},
   "outputs": [
    {
     "data": {
      "text/plain": [
       "CUDA.DeviceIterator() for 2 devices:\n",
       "0. Tesla V100-SXM2-32GB\n",
       "1. Tesla V100-SXM2-32GB"
      ]
     },
     "execution_count": 2,
     "metadata": {},
     "output_type": "execute_result"
    }
   ],
   "source": [
    "CUDA.devices()"
   ]
  },
  {
   "cell_type": "code",
   "execution_count": 3,
   "id": "b43dd52f-33f5-45bb-b403-8e838d241385",
   "metadata": {},
   "outputs": [
    {
     "data": {
      "text/plain": [
       "clean_all_gpus (generic function with 2 methods)"
      ]
     },
     "execution_count": 3,
     "metadata": {},
     "output_type": "execute_result"
    }
   ],
   "source": [
    "#monitoring multiples gpu functions:\n",
    "\n",
    "function memory_info_all_gpus(print_info = true)\n",
    "    \n",
    "    percentages = []\n",
    "\n",
    "    scale = 1/(1024^3) #converty bytes to GB\n",
    "    for (i, dev) in enumerate(CUDA.NVML.devices())\n",
    "\n",
    "        name = CUDA.NVML.name(dev) \n",
    "        mem_info = CUDA.NVML.memory_info(dev)\n",
    "        total = round(mem_info.total*scale, sigdigits=4)\n",
    "        used = round(mem_info.used*scale, sigdigits=4)\n",
    "        free = round(mem_info.free*scale, sigdigits=4)\n",
    "        percentage= round(used*100/total, sigdigits=4)\n",
    "        \n",
    "        print_info ? println(\"$name #$i memory usage: $percentage % ($used GB/ $total GB)\" ) : nothing\n",
    "        \n",
    "        append!(percentages, percentage)\n",
    "    end\n",
    "    \n",
    "    return percentages\n",
    "end\n",
    "\n",
    "function clean_all_gpus(Deep_cleaning = false)\n",
    "    for i=reverse(0:length(CUDA.devices()) - 1)\n",
    "        global current_gpu = i\n",
    "        CUDA.device!(current_gpu)\n",
    "        Deep_cleaning ? GC.gc(true) : nothing #This could be very slow.\n",
    "        CUDA.reclaim()\n",
    "    end\n",
    "end"
   ]
  },
  {
   "cell_type": "code",
   "execution_count": 4,
   "id": "585ea7ef-9400-4d77-bd1d-28b1d2292bf0",
   "metadata": {},
   "outputs": [
    {
     "name": "stdout",
     "output_type": "stream",
     "text": [
      "Tesla V100-SXM2-32GB #1 memory usage: 0.8259 % (0.2643 GB/ 32.0 GB)\n",
      "Tesla V100-SXM2-32GB #2 memory usage: 0.8259 % (0.2643 GB/ 32.0 GB)\n",
      "  0.154710 seconds (46.23 k allocations: 3.479 MiB, 15.55% gc time, 45.80% compilation time)\n",
      "Effective GPU memory usage: 0.95% (309.812 MiB/31.739 GiB)\n",
      "Memory pool usage: 0 bytes (0 bytes reserved)\n",
      "  0.577573 seconds (538.73 k allocations: 36.108 MiB, 1.97% gc time, 78.53% compilation time)\n"
     ]
    }
   ],
   "source": [
    "@time memory_info_all_gpus()\n",
    "@time CUDA.memory_status() #It just print the one that is in use."
   ]
  },
  {
   "cell_type": "code",
   "execution_count": 53,
   "id": "c76f8dd6-1316-459e-8dc9-97323847727c",
   "metadata": {},
   "outputs": [],
   "source": [
    "function Create_H_MPO(t,U, N, sites = []) \n",
    "\n",
    "    if length(sites) == 0\n",
    "        sites = siteinds(\"Electron\",N)    \n",
    "    end\n",
    "    \n",
    "    os = OpSum() \n",
    "    for j=1:N-1 \n",
    "        os += -t,\"Cdagup\",j,\"Cup\",j+1 \n",
    "        os += -t,\"Cdagup\",j+1,\"Cup\",j\n",
    "        os += -t,\"Cdagdn\",j,\"Cdn\",j+1 \n",
    "        os += -t,\"Cdagdn\",j+1,\"Cdn\",j\n",
    "    end \n",
    "\n",
    "    for j=1:N\n",
    "        os += U,\"Nup * Ndn\",j\n",
    "    end\n",
    "    # Convert these terms to an MPO \n",
    "    H = MPO(os,sites)\n",
    "    return H, sites\n",
    "end\n",
    "\n",
    "#Custom observer to measure the use of GPU:\n",
    "\n",
    "mutable struct DemoObserver <: AbstractObserver\n",
    "    energy_tol::Float64\n",
    "    last_energy::Float64\n",
    "\n",
    "    DemoObserver(energy_tol=0.0) = new(energy_tol,1000.0)\n",
    "end\n",
    "\n",
    "function ITensors.checkdone!(o::DemoObserver;kwargs...)\n",
    "    \n",
    "    CUDA.reclaim()\n",
    "    memory_info_all_gpus() #Print GPU percentage of use. \n",
    "        \n",
    "    sw = kwargs[:sweep]\n",
    "    energy = kwargs[:energy]\n",
    "    if abs(energy-o.last_energy)/abs(energy) < o.energy_tol\n",
    "    println(\"Stopping DMRG after sweep $sw\")\n",
    "    return true\n",
    "    end\n",
    "    # Otherwise, update last_energy and keep going\n",
    "    o.last_energy = energy\n",
    "    return false\n",
    "end"
   ]
  },
  {
   "cell_type": "code",
   "execution_count": 54,
   "id": "0a04ab1b-8fe6-4f45-aa2a-ea5655831c02",
   "metadata": {},
   "outputs": [
    {
     "name": "stdout",
     "output_type": "stream",
     "text": [
      "Tesla V100-SXM2-32GB #1 memory usage: 10.39 % (3.325 GB/ 32.0 GB)\n",
      "Tesla V100-SXM2-32GB #2 memory usage: 2.071 % (0.6628 GB/ 32.0 GB)\n"
     ]
    },
    {
     "data": {
      "text/plain": [
       "2-element Vector{Any}:\n",
       " 10.39\n",
       "  2.071"
      ]
     },
     "execution_count": 54,
     "metadata": {},
     "output_type": "execute_result"
    }
   ],
   "source": [
    "clean_all_gpus(true)\n",
    "memory_info_all_gpus()"
   ]
  },
  {
   "cell_type": "code",
   "execution_count": 55,
   "id": "d7fb86bc-d935-46f1-9b40-53a60cedc539",
   "metadata": {},
   "outputs": [
    {
     "data": {
      "text/plain": [
       "DemoObserver(1.0e-7, 1000.0)"
      ]
     },
     "execution_count": 55,
     "metadata": {},
     "output_type": "execute_result"
    }
   ],
   "source": [
    "N = 60\n",
    "t = 1\n",
    "U = 1\n",
    "\n",
    "nsweeps = 100\n",
    "maxdim = [1000] #maxdim - integer or array of integers specifying the maximum size allowed for the bond dimension or rank of the MPS being optimized\n",
    "cutoff = [1E-10] #maxdim - integer or array of integers specifying the maximum size allowed for the bond dimension or rank of the MPS being optimized\n",
    "# DMRG_observer = DMRGObserver(;energy_tol=10e-8, minsweeps=10, energy_type=Float64)\n",
    "DMRG_observer = DemoObserver(10e-8)"
   ]
  },
  {
   "cell_type": "code",
   "execution_count": 56,
   "id": "1d0ae5e2-97c2-454f-b16d-df9a1bdcf09d",
   "metadata": {},
   "outputs": [],
   "source": [
    "H, sites = Create_H_MPO(t,U, N) \n",
    "Initial_Guess = randomMPS(sites);\n",
    "# @time energy_ground_state, psi_ground_state = dmrg(H,Initial_Guess; nsweeps, maxdim, cutoff, observer = DMRG_observer, outputlevel = 1) "
   ]
  },
  {
   "cell_type": "code",
   "execution_count": 57,
   "id": "a3df4b4d-2d51-469e-8a8b-d78d82589c8f",
   "metadata": {},
   "outputs": [
    {
     "data": {
      "text/plain": [
       "MPS\n",
       "[1] ((dim=4|id=730|\"Electron,Site,n=1\"), (dim=1|id=565|\"Link,l=1\"))\n",
       "[2] ((dim=1|id=565|\"Link,l=1\"), (dim=4|id=40|\"Electron,Site,n=2\"), (dim=1|id=330|\"Link,l=2\"))\n",
       "[3] ((dim=1|id=330|\"Link,l=2\"), (dim=4|id=252|\"Electron,Site,n=3\"), (dim=1|id=12|\"Link,l=3\"))\n",
       "[4] ((dim=1|id=12|\"Link,l=3\"), (dim=4|id=842|\"Electron,Site,n=4\"), (dim=1|id=811|\"Link,l=4\"))\n",
       "[5] ((dim=1|id=811|\"Link,l=4\"), (dim=4|id=706|\"Electron,Site,n=5\"), (dim=1|id=472|\"Link,l=5\"))\n",
       "[6] ((dim=1|id=472|\"Link,l=5\"), (dim=4|id=614|\"Electron,Site,n=6\"), (dim=1|id=182|\"Link,l=6\"))\n",
       "[7] ((dim=1|id=182|\"Link,l=6\"), (dim=4|id=446|\"Electron,Site,n=7\"), (dim=1|id=640|\"Link,l=7\"))\n",
       "[8] ((dim=1|id=640|\"Link,l=7\"), (dim=4|id=620|\"Electron,Site,n=8\"), (dim=1|id=829|\"Link,l=8\"))\n",
       "[9] ((dim=1|id=829|\"Link,l=8\"), (dim=4|id=506|\"Electron,Site,n=9\"), (dim=1|id=834|\"Link,l=9\"))\n",
       "[10] ((dim=1|id=834|\"Link,l=9\"), (dim=4|id=163|\"Electron,Site,n=10\"), (dim=1|id=581|\"Link,l=10\"))\n",
       "[11] ((dim=1|id=581|\"Link,l=10\"), (dim=4|id=453|\"Electron,Site,n=11\"), (dim=1|id=342|\"Link,l=11\"))\n",
       "[12] ((dim=1|id=342|\"Link,l=11\"), (dim=4|id=15|\"Electron,Site,n=12\"), (dim=1|id=752|\"Link,l=12\"))\n",
       "[13] ((dim=1|id=752|\"Link,l=12\"), (dim=4|id=146|\"Electron,Site,n=13\"), (dim=1|id=843|\"Link,l=13\"))\n",
       "[14] ((dim=1|id=843|\"Link,l=13\"), (dim=4|id=977|\"Electron,Site,n=14\"), (dim=1|id=733|\"Link,l=14\"))\n",
       "[15] ((dim=1|id=733|\"Link,l=14\"), (dim=4|id=816|\"Electron,Site,n=15\"), (dim=1|id=464|\"Link,l=15\"))\n",
       "[16] ((dim=1|id=464|\"Link,l=15\"), (dim=4|id=16|\"Electron,Site,n=16\"), (dim=1|id=331|\"Link,l=16\"))\n",
       "[17] ((dim=1|id=331|\"Link,l=16\"), (dim=4|id=70|\"Electron,Site,n=17\"), (dim=1|id=21|\"Link,l=17\"))\n",
       "[18] ((dim=1|id=21|\"Link,l=17\"), (dim=4|id=197|\"Electron,Site,n=18\"), (dim=1|id=796|\"Link,l=18\"))\n",
       "[19] ((dim=1|id=796|\"Link,l=18\"), (dim=4|id=685|\"Electron,Site,n=19\"), (dim=1|id=61|\"Link,l=19\"))\n",
       "[20] ((dim=1|id=61|\"Link,l=19\"), (dim=4|id=337|\"Electron,Site,n=20\"), (dim=1|id=543|\"Link,l=20\"))\n",
       "[21] ((dim=1|id=543|\"Link,l=20\"), (dim=4|id=295|\"Electron,Site,n=21\"), (dim=1|id=8|\"Link,l=21\"))\n",
       "[22] ((dim=1|id=8|\"Link,l=21\"), (dim=4|id=720|\"Electron,Site,n=22\"), (dim=1|id=546|\"Link,l=22\"))\n",
       "[23] ((dim=1|id=546|\"Link,l=22\"), (dim=4|id=969|\"Electron,Site,n=23\"), (dim=1|id=980|\"Link,l=23\"))\n",
       "[24] ((dim=1|id=980|\"Link,l=23\"), (dim=4|id=311|\"Electron,Site,n=24\"), (dim=1|id=101|\"Link,l=24\"))\n",
       "[25] ((dim=1|id=101|\"Link,l=24\"), (dim=4|id=176|\"Electron,Site,n=25\"), (dim=1|id=68|\"Link,l=25\"))\n",
       "[26] ((dim=1|id=68|\"Link,l=25\"), (dim=4|id=208|\"Electron,Site,n=26\"), (dim=1|id=53|\"Link,l=26\"))\n",
       "[27] ((dim=1|id=53|\"Link,l=26\"), (dim=4|id=358|\"Electron,Site,n=27\"), (dim=1|id=379|\"Link,l=27\"))\n",
       "[28] ((dim=1|id=379|\"Link,l=27\"), (dim=4|id=826|\"Electron,Site,n=28\"), (dim=1|id=68|\"Link,l=28\"))\n",
       "[29] ((dim=1|id=68|\"Link,l=28\"), (dim=4|id=224|\"Electron,Site,n=29\"), (dim=1|id=305|\"Link,l=29\"))\n",
       "[30] ((dim=1|id=305|\"Link,l=29\"), (dim=4|id=872|\"Electron,Site,n=30\"), (dim=1|id=953|\"Link,l=30\"))\n",
       "[31] ((dim=1|id=953|\"Link,l=30\"), (dim=4|id=469|\"Electron,Site,n=31\"), (dim=1|id=418|\"Link,l=31\"))\n",
       "[32] ((dim=1|id=418|\"Link,l=31\"), (dim=4|id=673|\"Electron,Site,n=32\"), (dim=1|id=790|\"Link,l=32\"))\n",
       "[33] ((dim=1|id=790|\"Link,l=32\"), (dim=4|id=995|\"Electron,Site,n=33\"), (dim=1|id=634|\"Link,l=33\"))\n",
       "[34] ((dim=1|id=634|\"Link,l=33\"), (dim=4|id=911|\"Electron,Site,n=34\"), (dim=1|id=858|\"Link,l=34\"))\n",
       "[35] ((dim=1|id=858|\"Link,l=34\"), (dim=4|id=730|\"Electron,Site,n=35\"), (dim=1|id=573|\"Link,l=35\"))\n",
       "[36] ((dim=1|id=573|\"Link,l=35\"), (dim=4|id=80|\"Electron,Site,n=36\"), (dim=1|id=138|\"Link,l=36\"))\n",
       "[37] ((dim=1|id=138|\"Link,l=36\"), (dim=4|id=170|\"Electron,Site,n=37\"), (dim=1|id=327|\"Link,l=37\"))\n",
       "[38] ((dim=1|id=327|\"Link,l=37\"), (dim=4|id=784|\"Electron,Site,n=38\"), (dim=1|id=542|\"Link,l=38\"))\n",
       "[39] ((dim=1|id=542|\"Link,l=38\"), (dim=4|id=973|\"Electron,Site,n=39\"), (dim=1|id=591|\"Link,l=39\"))\n",
       "[40] ((dim=1|id=591|\"Link,l=39\"), (dim=4|id=970|\"Electron,Site,n=40\"), (dim=1|id=406|\"Link,l=40\"))\n",
       "[41] ((dim=1|id=406|\"Link,l=40\"), (dim=4|id=962|\"Electron,Site,n=41\"), (dim=1|id=833|\"Link,l=41\"))\n",
       "[42] ((dim=1|id=833|\"Link,l=41\"), (dim=4|id=728|\"Electron,Site,n=42\"), (dim=1|id=501|\"Link,l=42\"))\n",
       "[43] ((dim=1|id=501|\"Link,l=42\"), (dim=4|id=710|\"Electron,Site,n=43\"), (dim=1|id=702|\"Link,l=43\"))\n",
       "[44] ((dim=1|id=702|\"Link,l=43\"), (dim=4|id=192|\"Electron,Site,n=44\"), (dim=1|id=362|\"Link,l=44\"))\n",
       "[45] ((dim=1|id=362|\"Link,l=44\"), (dim=4|id=975|\"Electron,Site,n=45\"), (dim=1|id=259|\"Link,l=45\"))\n",
       "[46] ((dim=1|id=259|\"Link,l=45\"), (dim=4|id=821|\"Electron,Site,n=46\"), (dim=1|id=803|\"Link,l=46\"))\n",
       "[47] ((dim=1|id=803|\"Link,l=46\"), (dim=4|id=310|\"Electron,Site,n=47\"), (dim=1|id=427|\"Link,l=47\"))\n",
       "[48] ((dim=1|id=427|\"Link,l=47\"), (dim=4|id=735|\"Electron,Site,n=48\"), (dim=1|id=999|\"Link,l=48\"))\n",
       "[49] ((dim=1|id=999|\"Link,l=48\"), (dim=4|id=39|\"Electron,Site,n=49\"), (dim=1|id=830|\"Link,l=49\"))\n",
       "[50] ((dim=1|id=830|\"Link,l=49\"), (dim=4|id=172|\"Electron,Site,n=50\"), (dim=1|id=996|\"Link,l=50\"))\n",
       "[51] ((dim=1|id=996|\"Link,l=50\"), (dim=4|id=716|\"Electron,Site,n=51\"), (dim=1|id=591|\"Link,l=51\"))\n",
       "[52] ((dim=1|id=591|\"Link,l=51\"), (dim=4|id=148|\"Electron,Site,n=52\"), (dim=1|id=17|\"Link,l=52\"))\n",
       "[53] ((dim=1|id=17|\"Link,l=52\"), (dim=4|id=718|\"Electron,Site,n=53\"), (dim=1|id=355|\"Link,l=53\"))\n",
       "[54] ((dim=1|id=355|\"Link,l=53\"), (dim=4|id=147|\"Electron,Site,n=54\"), (dim=1|id=394|\"Link,l=54\"))\n",
       "[55] ((dim=1|id=394|\"Link,l=54\"), (dim=4|id=842|\"Electron,Site,n=55\"), (dim=1|id=173|\"Link,l=55\"))\n",
       "[56] ((dim=1|id=173|\"Link,l=55\"), (dim=4|id=720|\"Electron,Site,n=56\"), (dim=1|id=586|\"Link,l=56\"))\n",
       "[57] ((dim=1|id=586|\"Link,l=56\"), (dim=4|id=173|\"Electron,Site,n=57\"), (dim=1|id=749|\"Link,l=57\"))\n",
       "[58] ((dim=1|id=749|\"Link,l=57\"), (dim=4|id=809|\"Electron,Site,n=58\"), (dim=1|id=308|\"Link,l=58\"))\n",
       "[59] ((dim=1|id=308|\"Link,l=58\"), (dim=4|id=9|\"Electron,Site,n=59\"), (dim=1|id=109|\"Link,l=59\"))\n",
       "[60] ((dim=1|id=109|\"Link,l=59\"), (dim=4|id=505|\"Electron,Site,n=60\"))\n"
      ]
     },
     "execution_count": 57,
     "metadata": {},
     "output_type": "execute_result"
    }
   ],
   "source": [
    "H = NDTensors.cu(H)\n",
    "Initial_Guess = NDTensors.cu(Initial_Guess)\n",
    "\n",
    "# H = NDTensors.cu(H; storagemode=CUDA.UnifiedMemory)\n",
    "# Initial_Guess = NDTensors.cu(Initial_Guess; storagemode=CUDA.UnifiedMemory)"
   ]
  },
  {
   "cell_type": "code",
   "execution_count": 58,
   "id": "b445cb42-232d-4095-b67f-043d3116bbb1",
   "metadata": {
    "scrolled": true
   },
   "outputs": [
    {
     "name": "stdout",
     "output_type": "stream",
     "text": [
      "After sweep 1 energy=-61.598267913887405  maxlinkdim=16 maxerr=3.34E-16 time=0.458\n",
      "Tesla V100-SXM2-32GB #1 memory usage: 10.39 % (3.325 GB/ 32.0 GB)\n",
      "Tesla V100-SXM2-32GB #2 memory usage: 2.071 % (0.6628 GB/ 32.0 GB)\n",
      "After sweep 2 energy=-63.487609988293784  maxlinkdim=172 maxerr=9.98E-11 time=1.115\n",
      "Tesla V100-SXM2-32GB #1 memory usage: 16.05 % (5.137 GB/ 32.0 GB)\n",
      "Tesla V100-SXM2-32GB #2 memory usage: 2.071 % (0.6628 GB/ 32.0 GB)\n",
      "After sweep 3 energy=-63.60981980908561  maxlinkdim=243 maxerr=1.00E-10 time=2.075\n",
      "Tesla V100-SXM2-32GB #1 memory usage: 23.77 % (7.606 GB/ 32.0 GB)\n",
      "Tesla V100-SXM2-32GB #2 memory usage: 2.071 % (0.6628 GB/ 32.0 GB)\n",
      "After sweep 4 energy=-63.65560593732036  maxlinkdim=286 maxerr=9.99E-11 time=2.729\n",
      "Tesla V100-SXM2-32GB #1 memory usage: 19.96 % (6.387 GB/ 32.0 GB)\n",
      "Tesla V100-SXM2-32GB #2 memory usage: 2.071 % (0.6628 GB/ 32.0 GB)\n",
      "After sweep 5 energy=-63.67791747944098  maxlinkdim=332 maxerr=1.00E-10 time=3.688\n",
      "Tesla V100-SXM2-32GB #1 memory usage: 50.53 % (16.17 GB/ 32.0 GB)\n",
      "Tesla V100-SXM2-32GB #2 memory usage: 2.071 % (0.6628 GB/ 32.0 GB)\n",
      "After sweep 6 energy=-63.69053255054658  maxlinkdim=397 maxerr=1.00E-10 time=4.885\n",
      "Tesla V100-SXM2-32GB #1 memory usage: 26.6 % (8.512 GB/ 32.0 GB)\n",
      "Tesla V100-SXM2-32GB #2 memory usage: 2.071 % (0.6628 GB/ 32.0 GB)\n",
      "After sweep 7 energy=-63.69846536590253  maxlinkdim=470 maxerr=1.00E-10 time=6.881\n",
      "Tesla V100-SXM2-32GB #1 memory usage: 48.47 % (15.51 GB/ 32.0 GB)\n",
      "Tesla V100-SXM2-32GB #2 memory usage: 2.071 % (0.6628 GB/ 32.0 GB)\n",
      "After sweep 8 energy=-63.70395221944231  maxlinkdim=551 maxerr=9.99E-11 time=9.342\n",
      "Tesla V100-SXM2-32GB #1 memory usage: 34.91 % (11.17 GB/ 32.0 GB)\n",
      "Tesla V100-SXM2-32GB #2 memory usage: 2.071 % (0.6628 GB/ 32.0 GB)\n",
      "After sweep 9 energy=-63.7081315765873  maxlinkdim=643 maxerr=1.00E-10 time=12.726\n",
      "Tesla V100-SXM2-32GB #1 memory usage: 49.84 % (15.95 GB/ 32.0 GB)\n",
      "Tesla V100-SXM2-32GB #2 memory usage: 2.071 % (0.6628 GB/ 32.0 GB)\n",
      "After sweep 10 energy=-63.71136464998486  maxlinkdim=756 maxerr=1.00E-10 time=16.786\n",
      "Tesla V100-SXM2-32GB #1 memory usage: 47.78 % (15.29 GB/ 32.0 GB)\n",
      "Tesla V100-SXM2-32GB #2 memory usage: 2.071 % (0.6628 GB/ 32.0 GB)\n",
      "After sweep 11 energy=-63.713681625080376  maxlinkdim=926 maxerr=1.00E-10 time=23.176\n",
      "Tesla V100-SXM2-32GB #1 memory usage: 44.12 % (14.12 GB/ 32.0 GB)\n",
      "Tesla V100-SXM2-32GB #2 memory usage: 2.071 % (0.6628 GB/ 32.0 GB)\n",
      "After sweep 12 energy=-63.71510329349715  maxlinkdim=1000 maxerr=2.37E-10 time=30.523\n",
      "Tesla V100-SXM2-32GB #1 memory usage: 45.69 % (14.62 GB/ 32.0 GB)\n",
      "Tesla V100-SXM2-32GB #2 memory usage: 2.071 % (0.6628 GB/ 32.0 GB)\n",
      "After sweep 13 energy=-63.71586873085864  maxlinkdim=1000 maxerr=6.05E-10 time=41.453\n",
      "Tesla V100-SXM2-32GB #1 memory usage: 49.41 % (15.81 GB/ 32.0 GB)\n",
      "Tesla V100-SXM2-32GB #2 memory usage: 2.071 % (0.6628 GB/ 32.0 GB)\n",
      "After sweep 14 energy=-63.716022435403694  maxlinkdim=1000 maxerr=2.34E-10 time=44.222\n",
      "Tesla V100-SXM2-32GB #1 memory usage: 85.16 % (27.25 GB/ 32.0 GB)\n",
      "Tesla V100-SXM2-32GB #2 memory usage: 2.071 % (0.6628 GB/ 32.0 GB)\n",
      "After sweep 15 energy=-63.71609444479078  maxlinkdim=1000 maxerr=1.42E-09 time=46.585\n",
      "Tesla V100-SXM2-32GB #1 memory usage: 50.47 % (16.15 GB/ 32.0 GB)\n",
      "Tesla V100-SXM2-32GB #2 memory usage: 2.071 % (0.6628 GB/ 32.0 GB)\n",
      "After sweep 16 energy=-63.716100944748355  maxlinkdim=1000 maxerr=1.47E-09 time=48.798\n",
      "Tesla V100-SXM2-32GB #1 memory usage: 54.5 % (17.44 GB/ 32.0 GB)\n",
      "Tesla V100-SXM2-32GB #2 memory usage: 2.071 % (0.6628 GB/ 32.0 GB)\n",
      "After sweep 17 energy=-63.71610197701952  maxlinkdim=1000 maxerr=2.63E-09 time=50.636\n",
      "Tesla V100-SXM2-32GB #1 memory usage: 34.06 % (10.9 GB/ 32.0 GB)\n",
      "Tesla V100-SXM2-32GB #2 memory usage: 2.071 % (0.6628 GB/ 32.0 GB)\n",
      "Stopping DMRG after sweep 17\n",
      "346.926912 seconds (16.41 M allocations: 1.187 GiB, 1.44% gc time, 0.04% compilation time: 75% of which was recompilation)\n"
     ]
    },
    {
     "data": {
      "text/plain": [
       "(-63.71610197701952, MPS\n",
       "[1] ((dim=4|id=214|\"Link,l=1\"), (dim=4|id=730|\"Electron,Site,n=1\"))\n",
       "[2] ((dim=16|id=633|\"Link,l=2\"), (dim=4|id=40|\"Electron,Site,n=2\"), (dim=4|id=214|\"Link,l=1\"))\n",
       "[3] ((dim=4|id=252|\"Electron,Site,n=3\"), (dim=63|id=632|\"Link,l=3\"), (dim=16|id=633|\"Link,l=2\"))\n",
       "[4] ((dim=4|id=842|\"Electron,Site,n=4\"), (dim=164|id=493|\"Link,l=4\"), (dim=63|id=632|\"Link,l=3\"))\n",
       "[5] ((dim=4|id=706|\"Electron,Site,n=5\"), (dim=302|id=928|\"Link,l=5\"), (dim=164|id=493|\"Link,l=4\"))\n",
       "[6] ((dim=4|id=614|\"Electron,Site,n=6\"), (dim=399|id=788|\"Link,l=6\"), (dim=302|id=928|\"Link,l=5\"))\n",
       "[7] ((dim=4|id=446|\"Electron,Site,n=7\"), (dim=515|id=438|\"Link,l=7\"), (dim=399|id=788|\"Link,l=6\"))\n",
       "[8] ((dim=4|id=620|\"Electron,Site,n=8\"), (dim=585|id=763|\"Link,l=8\"), (dim=515|id=438|\"Link,l=7\"))\n",
       "[9] ((dim=4|id=506|\"Electron,Site,n=9\"), (dim=657|id=497|\"Link,l=9\"), (dim=585|id=763|\"Link,l=8\"))\n",
       "[10] ((dim=4|id=163|\"Electron,Site,n=10\"), (dim=733|id=493|\"Link,l=10\"), (dim=657|id=497|\"Link,l=9\"))\n",
       "[11] ((dim=4|id=453|\"Electron,Site,n=11\"), (dim=900|id=131|\"Link,l=11\"), (dim=733|id=493|\"Link,l=10\"))\n",
       "[12] ((dim=4|id=15|\"Electron,Site,n=12\"), (dim=990|id=290|\"Link,l=12\"), (dim=900|id=131|\"Link,l=11\"))\n",
       "[13] ((dim=4|id=146|\"Electron,Site,n=13\"), (dim=1000|id=572|\"Link,l=13\"), (dim=990|id=290|\"Link,l=12\"))\n",
       "[14] ((dim=4|id=977|\"Electron,Site,n=14\"), (dim=1000|id=751|\"Link,l=14\"), (dim=1000|id=572|\"Link,l=13\"))\n",
       "[15] ((dim=4|id=816|\"Electron,Site,n=15\"), (dim=1000|id=528|\"Link,l=15\"), (dim=1000|id=751|\"Link,l=14\"))\n",
       "[16] ((dim=4|id=16|\"Electron,Site,n=16\"), (dim=1000|id=14|\"Link,l=16\"), (dim=1000|id=528|\"Link,l=15\"))\n",
       "[17] ((dim=4|id=70|\"Electron,Site,n=17\"), (dim=1000|id=540|\"Link,l=17\"), (dim=1000|id=14|\"Link,l=16\"))\n",
       "[18] ((dim=4|id=197|\"Electron,Site,n=18\"), (dim=1000|id=809|\"Link,l=18\"), (dim=1000|id=540|\"Link,l=17\"))\n",
       "[19] ((dim=4|id=685|\"Electron,Site,n=19\"), (dim=1000|id=628|\"Link,l=19\"), (dim=1000|id=809|\"Link,l=18\"))\n",
       "[20] ((dim=4|id=337|\"Electron,Site,n=20\"), (dim=1000|id=910|\"Link,l=20\"), (dim=1000|id=628|\"Link,l=19\"))\n",
       "[21] ((dim=4|id=295|\"Electron,Site,n=21\"), (dim=1000|id=568|\"Link,l=21\"), (dim=1000|id=910|\"Link,l=20\"))\n",
       "[22] ((dim=4|id=720|\"Electron,Site,n=22\"), (dim=1000|id=241|\"Link,l=22\"), (dim=1000|id=568|\"Link,l=21\"))\n",
       "[23] ((dim=4|id=969|\"Electron,Site,n=23\"), (dim=1000|id=66|\"Link,l=23\"), (dim=1000|id=241|\"Link,l=22\"))\n",
       "[24] ((dim=4|id=311|\"Electron,Site,n=24\"), (dim=1000|id=986|\"Link,l=24\"), (dim=1000|id=66|\"Link,l=23\"))\n",
       "[25] ((dim=4|id=176|\"Electron,Site,n=25\"), (dim=1000|id=915|\"Link,l=25\"), (dim=1000|id=986|\"Link,l=24\"))\n",
       "[26] ((dim=4|id=208|\"Electron,Site,n=26\"), (dim=1000|id=535|\"Link,l=26\"), (dim=1000|id=915|\"Link,l=25\"))\n",
       "[27] ((dim=4|id=358|\"Electron,Site,n=27\"), (dim=1000|id=645|\"Link,l=27\"), (dim=1000|id=535|\"Link,l=26\"))\n",
       "[28] ((dim=4|id=826|\"Electron,Site,n=28\"), (dim=1000|id=336|\"Link,l=28\"), (dim=1000|id=645|\"Link,l=27\"))\n",
       "[29] ((dim=4|id=224|\"Electron,Site,n=29\"), (dim=1000|id=748|\"Link,l=29\"), (dim=1000|id=336|\"Link,l=28\"))\n",
       "[30] ((dim=4|id=872|\"Electron,Site,n=30\"), (dim=1000|id=11|\"Link,l=30\"), (dim=1000|id=748|\"Link,l=29\"))\n",
       "[31] ((dim=4|id=469|\"Electron,Site,n=31\"), (dim=1000|id=558|\"Link,l=31\"), (dim=1000|id=11|\"Link,l=30\"))\n",
       "[32] ((dim=4|id=673|\"Electron,Site,n=32\"), (dim=1000|id=357|\"Link,l=32\"), (dim=1000|id=558|\"Link,l=31\"))\n",
       "[33] ((dim=4|id=995|\"Electron,Site,n=33\"), (dim=1000|id=642|\"Link,l=33\"), (dim=1000|id=357|\"Link,l=32\"))\n",
       "[34] ((dim=4|id=911|\"Electron,Site,n=34\"), (dim=1000|id=434|\"Link,l=34\"), (dim=1000|id=642|\"Link,l=33\"))\n",
       "[35] ((dim=4|id=730|\"Electron,Site,n=35\"), (dim=1000|id=981|\"Link,l=35\"), (dim=1000|id=434|\"Link,l=34\"))\n",
       "[36] ((dim=4|id=80|\"Electron,Site,n=36\"), (dim=1000|id=519|\"Link,l=36\"), (dim=1000|id=981|\"Link,l=35\"))\n",
       "[37] ((dim=4|id=170|\"Electron,Site,n=37\"), (dim=1000|id=971|\"Link,l=37\"), (dim=1000|id=519|\"Link,l=36\"))\n",
       "[38] ((dim=4|id=784|\"Electron,Site,n=38\"), (dim=1000|id=97|\"Link,l=38\"), (dim=1000|id=971|\"Link,l=37\"))\n",
       "[39] ((dim=4|id=973|\"Electron,Site,n=39\"), (dim=1000|id=6|\"Link,l=39\"), (dim=1000|id=97|\"Link,l=38\"))\n",
       "[40] ((dim=4|id=970|\"Electron,Site,n=40\"), (dim=1000|id=408|\"Link,l=40\"), (dim=1000|id=6|\"Link,l=39\"))\n",
       "[41] ((dim=4|id=962|\"Electron,Site,n=41\"), (dim=1000|id=661|\"Link,l=41\"), (dim=1000|id=408|\"Link,l=40\"))\n",
       "[42] ((dim=4|id=728|\"Electron,Site,n=42\"), (dim=1000|id=339|\"Link,l=42\"), (dim=1000|id=661|\"Link,l=41\"))\n",
       "[43] ((dim=4|id=710|\"Electron,Site,n=43\"), (dim=1000|id=846|\"Link,l=43\"), (dim=1000|id=339|\"Link,l=42\"))\n",
       "[44] ((dim=4|id=192|\"Electron,Site,n=44\"), (dim=1000|id=256|\"Link,l=44\"), (dim=1000|id=846|\"Link,l=43\"))\n",
       "[45] ((dim=4|id=975|\"Electron,Site,n=45\"), (dim=1000|id=861|\"Link,l=45\"), (dim=1000|id=256|\"Link,l=44\"))\n",
       "[46] ((dim=4|id=821|\"Electron,Site,n=46\"), (dim=1000|id=25|\"Link,l=46\"), (dim=1000|id=861|\"Link,l=45\"))\n",
       "[47] ((dim=4|id=310|\"Electron,Site,n=47\"), (dim=968|id=426|\"Link,l=47\"), (dim=1000|id=25|\"Link,l=46\"))\n",
       "[48] ((dim=4|id=735|\"Electron,Site,n=48\"), (dim=937|id=36|\"Link,l=48\"), (dim=968|id=426|\"Link,l=47\"))\n",
       "[49] ((dim=4|id=39|\"Electron,Site,n=49\"), (dim=812|id=438|\"Link,l=49\"), (dim=937|id=36|\"Link,l=48\"))\n",
       "[50] ((dim=4|id=172|\"Electron,Site,n=50\"), (dim=798|id=587|\"Link,l=50\"), (dim=812|id=438|\"Link,l=49\"))\n",
       "[51] ((dim=4|id=716|\"Electron,Site,n=51\"), (dim=649|id=159|\"Link,l=51\"), (dim=798|id=587|\"Link,l=50\"))\n",
       "[52] ((dim=4|id=148|\"Electron,Site,n=52\"), (dim=641|id=480|\"Link,l=52\"), (dim=649|id=159|\"Link,l=51\"))\n",
       "[53] ((dim=4|id=718|\"Electron,Site,n=53\"), (dim=511|id=525|\"Link,l=53\"), (dim=641|id=480|\"Link,l=52\"))\n",
       "[54] ((dim=4|id=147|\"Electron,Site,n=54\"), (dim=455|id=864|\"Link,l=54\"), (dim=511|id=525|\"Link,l=53\"))\n",
       "[55] ((dim=4|id=842|\"Electron,Site,n=55\"), (dim=298|id=165|\"Link,l=55\"), (dim=455|id=864|\"Link,l=54\"))\n",
       "[56] ((dim=4|id=720|\"Electron,Site,n=56\"), (dim=179|id=480|\"Link,l=56\"), (dim=298|id=165|\"Link,l=55\"))\n",
       "[57] ((dim=4|id=173|\"Electron,Site,n=57\"), (dim=63|id=142|\"Link,l=57\"), (dim=179|id=480|\"Link,l=56\"))\n",
       "[58] ((dim=4|id=809|\"Electron,Site,n=58\"), (dim=16|id=44|\"Link,l=58\"), (dim=63|id=142|\"Link,l=57\"))\n",
       "[59] ((dim=4|id=9|\"Electron,Site,n=59\"), (dim=4|id=248|\"Link,l=59\"), (dim=16|id=44|\"Link,l=58\"))\n",
       "[60] ((dim=4|id=505|\"Electron,Site,n=60\"), (dim=4|id=248|\"Link,l=59\"))\n",
       ")"
      ]
     },
     "execution_count": 58,
     "metadata": {},
     "output_type": "execute_result"
    }
   ],
   "source": [
    "@time energy_ground_state, psi_ground_state = dmrg(H,Initial_Guess; nsweeps, maxdim, cutoff, observer = DMRG_observer, outputlevel = 1) "
   ]
  },
  {
   "cell_type": "markdown",
   "id": "46e18cbc-5db0-41f7-ae71-d957c6ea2c9a",
   "metadata": {},
   "source": [
    "Here is clear that ITensors - DMRG does not works automatically with multiple GPUS. "
   ]
  },
  {
   "cell_type": "code",
   "execution_count": 59,
   "id": "b48a27a1-57c2-4b86-88b2-863885ee26e3",
   "metadata": {},
   "outputs": [
    {
     "name": "stdout",
     "output_type": "stream",
     "text": [
      "Tesla V100-SXM2-32GB #1 memory usage: 16.4 % (5.249 GB/ 32.0 GB)\n",
      "Tesla V100-SXM2-32GB #2 memory usage: 2.071 % (0.6628 GB/ 32.0 GB)\n"
     ]
    },
    {
     "data": {
      "text/plain": [
       "2-element Vector{Any}:\n",
       " 16.4\n",
       "  2.071"
      ]
     },
     "execution_count": 59,
     "metadata": {},
     "output_type": "execute_result"
    }
   ],
   "source": [
    "clean_all_gpus(true)\n",
    "memory_info_all_gpus()"
   ]
  },
  {
   "cell_type": "code",
   "execution_count": 60,
   "id": "94958c10-8b7b-4fae-93d1-9df7ff119792",
   "metadata": {},
   "outputs": [],
   "source": [
    "#Final version ? \n",
    "\n",
    "global current_gpu = 0 #the code always starts running with GPU 1.\n",
    "CUDA.device!(current_gpu)\n",
    "\n",
    "function ITensors.checkdone!(o::DemoObserver;kwargs...)\n",
    "    \n",
    "    CUDA.reclaim() #It is the faster way to clean.\n",
    "    percentage = memory_info_all_gpus() #Print GPU percentage of use. \n",
    "    \n",
    "    if percentage[current_gpu + 1] >= 90\n",
    "        \n",
    "        global current_gpu = current_gpu + 1\n",
    "        \n",
    "        # current_gpu == length(CUDA.devices()) ? clean_all_gpus() : @time CUDA.device!(current_gpu) \n",
    "        \n",
    "        if current_gpu == length(CUDA.devices()) \n",
    "            global current_gpu = 0 \n",
    "        end\n",
    "        \n",
    "        CUDA.device!(current_gpu)\n",
    "    end    \n",
    "        \n",
    "    sw = kwargs[:sweep]\n",
    "    energy = kwargs[:energy]\n",
    "    if abs(energy-o.last_energy)/abs(energy) < o.energy_tol\n",
    "    println(\"Stopping DMRG after sweep $sw\")\n",
    "    return true\n",
    "    end\n",
    "    # Otherwise, update last_energy and keep going\n",
    "    o.last_energy = energy\n",
    "    return false\n",
    "end"
   ]
  },
  {
   "cell_type": "code",
   "execution_count": 61,
   "id": "fd61c44d-e325-4166-ac18-c6f5febc754a",
   "metadata": {
    "scrolled": true
   },
   "outputs": [
    {
     "name": "stdout",
     "output_type": "stream",
     "text": [
      "After sweep 1 energy=-61.598267913887405  maxlinkdim=16 maxerr=3.34E-16 time=0.446\n",
      "Tesla V100-SXM2-32GB #1 memory usage: 16.4 % (5.249 GB/ 32.0 GB)\n",
      "Tesla V100-SXM2-32GB #2 memory usage: 2.071 % (0.6628 GB/ 32.0 GB)\n",
      "After sweep 2 energy=-63.487609988293784  maxlinkdim=172 maxerr=9.98E-11 time=1.044\n",
      "Tesla V100-SXM2-32GB #1 memory usage: 23.92 % (7.655 GB/ 32.0 GB)\n",
      "Tesla V100-SXM2-32GB #2 memory usage: 2.071 % (0.6628 GB/ 32.0 GB)\n",
      "After sweep 3 energy=-63.60981980908561  maxlinkdim=243 maxerr=1.00E-10 time=2.018\n",
      "Tesla V100-SXM2-32GB #1 memory usage: 46.78 % (14.97 GB/ 32.0 GB)\n",
      "Tesla V100-SXM2-32GB #2 memory usage: 2.071 % (0.6628 GB/ 32.0 GB)\n",
      "After sweep 4 energy=-63.65560593732036  maxlinkdim=286 maxerr=9.99E-11 time=2.685\n",
      "Tesla V100-SXM2-32GB #1 memory usage: 26.36 % (8.436 GB/ 32.0 GB)\n",
      "Tesla V100-SXM2-32GB #2 memory usage: 2.071 % (0.6628 GB/ 32.0 GB)\n",
      "After sweep 5 energy=-63.67791747944098  maxlinkdim=332 maxerr=1.00E-10 time=3.671\n",
      "Tesla V100-SXM2-32GB #1 memory usage: 51.66 % (16.53 GB/ 32.0 GB)\n",
      "Tesla V100-SXM2-32GB #2 memory usage: 2.071 % (0.6628 GB/ 32.0 GB)\n",
      "After sweep 6 energy=-63.69053255054658  maxlinkdim=397 maxerr=1.00E-10 time=4.909\n",
      "Tesla V100-SXM2-32GB #1 memory usage: 37.59 % (12.03 GB/ 32.0 GB)\n",
      "Tesla V100-SXM2-32GB #2 memory usage: 2.071 % (0.6628 GB/ 32.0 GB)\n",
      "After sweep 7 energy=-63.69846536590253  maxlinkdim=470 maxerr=1.00E-10 time=6.847\n",
      "Tesla V100-SXM2-32GB #1 memory usage: 38.66 % (12.37 GB/ 32.0 GB)\n",
      "Tesla V100-SXM2-32GB #2 memory usage: 2.071 % (0.6628 GB/ 32.0 GB)\n",
      "After sweep 8 energy=-63.70395221944231  maxlinkdim=551 maxerr=9.99E-11 time=9.364\n",
      "Tesla V100-SXM2-32GB #1 memory usage: 37.5 % (12.0 GB/ 32.0 GB)\n",
      "Tesla V100-SXM2-32GB #2 memory usage: 2.071 % (0.6628 GB/ 32.0 GB)\n",
      "After sweep 9 energy=-63.7081315765873  maxlinkdim=643 maxerr=1.00E-10 time=12.683\n",
      "Tesla V100-SXM2-32GB #1 memory usage: 43.75 % (14.0 GB/ 32.0 GB)\n",
      "Tesla V100-SXM2-32GB #2 memory usage: 2.071 % (0.6628 GB/ 32.0 GB)\n",
      "After sweep 10 energy=-63.71136464998486  maxlinkdim=756 maxerr=1.00E-10 time=16.788\n",
      "Tesla V100-SXM2-32GB #1 memory usage: 50.59 % (16.19 GB/ 32.0 GB)\n",
      "Tesla V100-SXM2-32GB #2 memory usage: 2.071 % (0.6628 GB/ 32.0 GB)\n",
      "After sweep 11 energy=-63.713681625080376  maxlinkdim=926 maxerr=1.00E-10 time=23.136\n",
      "Tesla V100-SXM2-32GB #1 memory usage: 38.28 % (12.25 GB/ 32.0 GB)\n",
      "Tesla V100-SXM2-32GB #2 memory usage: 2.071 % (0.6628 GB/ 32.0 GB)\n",
      "After sweep 12 energy=-63.71510329349715  maxlinkdim=1000 maxerr=2.37E-10 time=30.496\n",
      "Tesla V100-SXM2-32GB #1 memory usage: 58.97 % (18.87 GB/ 32.0 GB)\n",
      "Tesla V100-SXM2-32GB #2 memory usage: 2.071 % (0.6628 GB/ 32.0 GB)\n",
      "After sweep 13 energy=-63.71586873085864  maxlinkdim=1000 maxerr=6.05E-10 time=41.835\n",
      "Tesla V100-SXM2-32GB #1 memory usage: 37.19 % (11.9 GB/ 32.0 GB)\n",
      "Tesla V100-SXM2-32GB #2 memory usage: 2.071 % (0.6628 GB/ 32.0 GB)\n",
      "After sweep 14 energy=-63.716022435403694  maxlinkdim=1000 maxerr=2.34E-10 time=44.170\n",
      "Tesla V100-SXM2-32GB #1 memory usage: 92.0 % (29.44 GB/ 32.0 GB)\n",
      "Tesla V100-SXM2-32GB #2 memory usage: 2.071 % (0.6628 GB/ 32.0 GB)\n",
      "After sweep 15 energy=-63.71609444479078  maxlinkdim=1000 maxerr=1.42E-09 time=81.121\n",
      "Tesla V100-SXM2-32GB #1 memory usage: 92.0 % (29.44 GB/ 32.0 GB)\n",
      "Tesla V100-SXM2-32GB #2 memory usage: 38.69 % (12.38 GB/ 32.0 GB)\n",
      "After sweep 16 energy=-63.716100944748355  maxlinkdim=1000 maxerr=1.47E-09 time=48.996\n",
      "Tesla V100-SXM2-32GB #1 memory usage: 92.0 % (29.44 GB/ 32.0 GB)\n",
      "Tesla V100-SXM2-32GB #2 memory usage: 64.56 % (20.66 GB/ 32.0 GB)\n",
      "After sweep 17 energy=-63.71610197701952  maxlinkdim=1000 maxerr=2.63E-09 time=50.978\n",
      "Tesla V100-SXM2-32GB #1 memory usage: 92.0 % (29.44 GB/ 32.0 GB)\n",
      "Tesla V100-SXM2-32GB #2 memory usage: 47.19 % (15.1 GB/ 32.0 GB)\n",
      "Stopping DMRG after sweep 17\n",
      "382.008564 seconds (16.70 M allocations: 1.219 GiB, 1.39% gc time, 0.05% compilation time: 60% of which was recompilation)\n"
     ]
    },
    {
     "data": {
      "text/plain": [
       "(-63.71610197701952, MPS\n",
       "[1] ((dim=4|id=686|\"Link,l=1\"), (dim=4|id=730|\"Electron,Site,n=1\"))\n",
       "[2] ((dim=16|id=568|\"Link,l=2\"), (dim=4|id=40|\"Electron,Site,n=2\"), (dim=4|id=686|\"Link,l=1\"))\n",
       "[3] ((dim=4|id=252|\"Electron,Site,n=3\"), (dim=63|id=808|\"Link,l=3\"), (dim=16|id=568|\"Link,l=2\"))\n",
       "[4] ((dim=4|id=842|\"Electron,Site,n=4\"), (dim=164|id=668|\"Link,l=4\"), (dim=63|id=808|\"Link,l=3\"))\n",
       "[5] ((dim=4|id=706|\"Electron,Site,n=5\"), (dim=302|id=869|\"Link,l=5\"), (dim=164|id=668|\"Link,l=4\"))\n",
       "[6] ((dim=4|id=614|\"Electron,Site,n=6\"), (dim=399|id=895|\"Link,l=6\"), (dim=302|id=869|\"Link,l=5\"))\n",
       "[7] ((dim=4|id=446|\"Electron,Site,n=7\"), (dim=515|id=921|\"Link,l=7\"), (dim=399|id=895|\"Link,l=6\"))\n",
       "[8] ((dim=4|id=620|\"Electron,Site,n=8\"), (dim=585|id=967|\"Link,l=8\"), (dim=515|id=921|\"Link,l=7\"))\n",
       "[9] ((dim=4|id=506|\"Electron,Site,n=9\"), (dim=657|id=235|\"Link,l=9\"), (dim=585|id=967|\"Link,l=8\"))\n",
       "[10] ((dim=4|id=163|\"Electron,Site,n=10\"), (dim=733|id=612|\"Link,l=10\"), (dim=657|id=235|\"Link,l=9\"))\n",
       "[11] ((dim=4|id=453|\"Electron,Site,n=11\"), (dim=900|id=933|\"Link,l=11\"), (dim=733|id=612|\"Link,l=10\"))\n",
       "[12] ((dim=4|id=15|\"Electron,Site,n=12\"), (dim=990|id=132|\"Link,l=12\"), (dim=900|id=933|\"Link,l=11\"))\n",
       "[13] ((dim=4|id=146|\"Electron,Site,n=13\"), (dim=1000|id=132|\"Link,l=13\"), (dim=990|id=132|\"Link,l=12\"))\n",
       "[14] ((dim=4|id=977|\"Electron,Site,n=14\"), (dim=1000|id=468|\"Link,l=14\"), (dim=1000|id=132|\"Link,l=13\"))\n",
       "[15] ((dim=4|id=816|\"Electron,Site,n=15\"), (dim=1000|id=523|\"Link,l=15\"), (dim=1000|id=468|\"Link,l=14\"))\n",
       "[16] ((dim=4|id=16|\"Electron,Site,n=16\"), (dim=1000|id=47|\"Link,l=16\"), (dim=1000|id=523|\"Link,l=15\"))\n",
       "[17] ((dim=4|id=70|\"Electron,Site,n=17\"), (dim=1000|id=455|\"Link,l=17\"), (dim=1000|id=47|\"Link,l=16\"))\n",
       "[18] ((dim=4|id=197|\"Electron,Site,n=18\"), (dim=1000|id=374|\"Link,l=18\"), (dim=1000|id=455|\"Link,l=17\"))\n",
       "[19] ((dim=4|id=685|\"Electron,Site,n=19\"), (dim=1000|id=245|\"Link,l=19\"), (dim=1000|id=374|\"Link,l=18\"))\n",
       "[20] ((dim=4|id=337|\"Electron,Site,n=20\"), (dim=1000|id=379|\"Link,l=20\"), (dim=1000|id=245|\"Link,l=19\"))\n",
       "[21] ((dim=4|id=295|\"Electron,Site,n=21\"), (dim=1000|id=198|\"Link,l=21\"), (dim=1000|id=379|\"Link,l=20\"))\n",
       "[22] ((dim=4|id=720|\"Electron,Site,n=22\"), (dim=1000|id=694|\"Link,l=22\"), (dim=1000|id=198|\"Link,l=21\"))\n",
       "[23] ((dim=4|id=969|\"Electron,Site,n=23\"), (dim=1000|id=672|\"Link,l=23\"), (dim=1000|id=694|\"Link,l=22\"))\n",
       "[24] ((dim=4|id=311|\"Electron,Site,n=24\"), (dim=1000|id=376|\"Link,l=24\"), (dim=1000|id=672|\"Link,l=23\"))\n",
       "[25] ((dim=4|id=176|\"Electron,Site,n=25\"), (dim=1000|id=142|\"Link,l=25\"), (dim=1000|id=376|\"Link,l=24\"))\n",
       "[26] ((dim=4|id=208|\"Electron,Site,n=26\"), (dim=1000|id=916|\"Link,l=26\"), (dim=1000|id=142|\"Link,l=25\"))\n",
       "[27] ((dim=4|id=358|\"Electron,Site,n=27\"), (dim=1000|id=105|\"Link,l=27\"), (dim=1000|id=916|\"Link,l=26\"))\n",
       "[28] ((dim=4|id=826|\"Electron,Site,n=28\"), (dim=1000|id=584|\"Link,l=28\"), (dim=1000|id=105|\"Link,l=27\"))\n",
       "[29] ((dim=4|id=224|\"Electron,Site,n=29\"), (dim=1000|id=874|\"Link,l=29\"), (dim=1000|id=584|\"Link,l=28\"))\n",
       "[30] ((dim=4|id=872|\"Electron,Site,n=30\"), (dim=1000|id=980|\"Link,l=30\"), (dim=1000|id=874|\"Link,l=29\"))\n",
       "[31] ((dim=4|id=469|\"Electron,Site,n=31\"), (dim=1000|id=288|\"Link,l=31\"), (dim=1000|id=980|\"Link,l=30\"))\n",
       "[32] ((dim=4|id=673|\"Electron,Site,n=32\"), (dim=1000|id=772|\"Link,l=32\"), (dim=1000|id=288|\"Link,l=31\"))\n",
       "[33] ((dim=4|id=995|\"Electron,Site,n=33\"), (dim=1000|id=490|\"Link,l=33\"), (dim=1000|id=772|\"Link,l=32\"))\n",
       "[34] ((dim=4|id=911|\"Electron,Site,n=34\"), (dim=1000|id=36|\"Link,l=34\"), (dim=1000|id=490|\"Link,l=33\"))\n",
       "[35] ((dim=4|id=730|\"Electron,Site,n=35\"), (dim=1000|id=487|\"Link,l=35\"), (dim=1000|id=36|\"Link,l=34\"))\n",
       "[36] ((dim=4|id=80|\"Electron,Site,n=36\"), (dim=1000|id=455|\"Link,l=36\"), (dim=1000|id=487|\"Link,l=35\"))\n",
       "[37] ((dim=4|id=170|\"Electron,Site,n=37\"), (dim=1000|id=462|\"Link,l=37\"), (dim=1000|id=455|\"Link,l=36\"))\n",
       "[38] ((dim=4|id=784|\"Electron,Site,n=38\"), (dim=1000|id=794|\"Link,l=38\"), (dim=1000|id=462|\"Link,l=37\"))\n",
       "[39] ((dim=4|id=973|\"Electron,Site,n=39\"), (dim=1000|id=804|\"Link,l=39\"), (dim=1000|id=794|\"Link,l=38\"))\n",
       "[40] ((dim=4|id=970|\"Electron,Site,n=40\"), (dim=1000|id=669|\"Link,l=40\"), (dim=1000|id=804|\"Link,l=39\"))\n",
       "[41] ((dim=4|id=962|\"Electron,Site,n=41\"), (dim=1000|id=13|\"Link,l=41\"), (dim=1000|id=669|\"Link,l=40\"))\n",
       "[42] ((dim=4|id=728|\"Electron,Site,n=42\"), (dim=1000|id=264|\"Link,l=42\"), (dim=1000|id=13|\"Link,l=41\"))\n",
       "[43] ((dim=4|id=710|\"Electron,Site,n=43\"), (dim=1000|id=885|\"Link,l=43\"), (dim=1000|id=264|\"Link,l=42\"))\n",
       "[44] ((dim=4|id=192|\"Electron,Site,n=44\"), (dim=1000|id=914|\"Link,l=44\"), (dim=1000|id=885|\"Link,l=43\"))\n",
       "[45] ((dim=4|id=975|\"Electron,Site,n=45\"), (dim=1000|id=61|\"Link,l=45\"), (dim=1000|id=914|\"Link,l=44\"))\n",
       "[46] ((dim=4|id=821|\"Electron,Site,n=46\"), (dim=1000|id=704|\"Link,l=46\"), (dim=1000|id=61|\"Link,l=45\"))\n",
       "[47] ((dim=4|id=310|\"Electron,Site,n=47\"), (dim=968|id=633|\"Link,l=47\"), (dim=1000|id=704|\"Link,l=46\"))\n",
       "[48] ((dim=4|id=735|\"Electron,Site,n=48\"), (dim=937|id=980|\"Link,l=48\"), (dim=968|id=633|\"Link,l=47\"))\n",
       "[49] ((dim=4|id=39|\"Electron,Site,n=49\"), (dim=812|id=932|\"Link,l=49\"), (dim=937|id=980|\"Link,l=48\"))\n",
       "[50] ((dim=4|id=172|\"Electron,Site,n=50\"), (dim=798|id=491|\"Link,l=50\"), (dim=812|id=932|\"Link,l=49\"))\n",
       "[51] ((dim=4|id=716|\"Electron,Site,n=51\"), (dim=649|id=874|\"Link,l=51\"), (dim=798|id=491|\"Link,l=50\"))\n",
       "[52] ((dim=4|id=148|\"Electron,Site,n=52\"), (dim=641|id=889|\"Link,l=52\"), (dim=649|id=874|\"Link,l=51\"))\n",
       "[53] ((dim=4|id=718|\"Electron,Site,n=53\"), (dim=511|id=760|\"Link,l=53\"), (dim=641|id=889|\"Link,l=52\"))\n",
       "[54] ((dim=4|id=147|\"Electron,Site,n=54\"), (dim=455|id=864|\"Link,l=54\"), (dim=511|id=760|\"Link,l=53\"))\n",
       "[55] ((dim=4|id=842|\"Electron,Site,n=55\"), (dim=298|id=274|\"Link,l=55\"), (dim=455|id=864|\"Link,l=54\"))\n",
       "[56] ((dim=4|id=720|\"Electron,Site,n=56\"), (dim=179|id=5|\"Link,l=56\"), (dim=298|id=274|\"Link,l=55\"))\n",
       "[57] ((dim=4|id=173|\"Electron,Site,n=57\"), (dim=63|id=9|\"Link,l=57\"), (dim=179|id=5|\"Link,l=56\"))\n",
       "[58] ((dim=4|id=809|\"Electron,Site,n=58\"), (dim=16|id=453|\"Link,l=58\"), (dim=63|id=9|\"Link,l=57\"))\n",
       "[59] ((dim=4|id=9|\"Electron,Site,n=59\"), (dim=4|id=445|\"Link,l=59\"), (dim=16|id=453|\"Link,l=58\"))\n",
       "[60] ((dim=4|id=505|\"Electron,Site,n=60\"), (dim=4|id=445|\"Link,l=59\"))\n",
       ")"
      ]
     },
     "execution_count": 61,
     "metadata": {},
     "output_type": "execute_result"
    }
   ],
   "source": [
    "@time energy_ground_state, psi_ground_state = dmrg(H,Initial_Guess; nsweeps, maxdim, cutoff, observer = DMRG_observer, outputlevel = 1) "
   ]
  },
  {
   "cell_type": "code",
   "execution_count": null,
   "id": "3e4ebe1d-8dd3-41ec-ad9d-78b1f582dcad",
   "metadata": {},
   "outputs": [],
   "source": []
  },
  {
   "cell_type": "code",
   "execution_count": null,
   "id": "5f73d207-4b0c-43f4-bf21-390665cc27d5",
   "metadata": {},
   "outputs": [],
   "source": []
  }
 ],
 "metadata": {
  "kernelspec": {
   "display_name": "Julia 1.10.3",
   "language": "julia",
   "name": "julia-1.10"
  },
  "language_info": {
   "file_extension": ".jl",
   "mimetype": "application/julia",
   "name": "julia",
   "version": "1.10.3"
  }
 },
 "nbformat": 4,
 "nbformat_minor": 5
}
